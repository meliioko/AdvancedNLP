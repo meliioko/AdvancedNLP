{
  "nbformat": 4,
  "nbformat_minor": 0,
  "metadata": {
    "colab": {
      "provenance": []
    },
    "kernelspec": {
      "name": "python3",
      "display_name": "Python 3"
    },
    "language_info": {
      "name": "python"
    },
    "widgets": {
      "application/vnd.jupyter.widget-state+json": {
        "6f75bf071ab649c69f164ea7a9c00c2f": {
          "model_module": "@jupyter-widgets/controls",
          "model_name": "HBoxModel",
          "model_module_version": "1.5.0",
          "state": {
            "_dom_classes": [],
            "_model_module": "@jupyter-widgets/controls",
            "_model_module_version": "1.5.0",
            "_model_name": "HBoxModel",
            "_view_count": null,
            "_view_module": "@jupyter-widgets/controls",
            "_view_module_version": "1.5.0",
            "_view_name": "HBoxView",
            "box_style": "",
            "children": [
              "IPY_MODEL_406218ccde834c66a24f975ebf4f4a2f",
              "IPY_MODEL_7d4b2195276f4102831eadf1bfc55dd4",
              "IPY_MODEL_955f2efd9e79430399f3eeda89e332a8"
            ],
            "layout": "IPY_MODEL_ae5ae6c212ee45d4aa315fa5ba4ddbfb"
          }
        },
        "406218ccde834c66a24f975ebf4f4a2f": {
          "model_module": "@jupyter-widgets/controls",
          "model_name": "HTMLModel",
          "model_module_version": "1.5.0",
          "state": {
            "_dom_classes": [],
            "_model_module": "@jupyter-widgets/controls",
            "_model_module_version": "1.5.0",
            "_model_name": "HTMLModel",
            "_view_count": null,
            "_view_module": "@jupyter-widgets/controls",
            "_view_module_version": "1.5.0",
            "_view_name": "HTMLView",
            "description": "",
            "description_tooltip": null,
            "layout": "IPY_MODEL_a3e62e458d0b43cd96a557a7c7fef01d",
            "placeholder": "​",
            "style": "IPY_MODEL_a9882311f3364097a41f7bc33b1801ac",
            "value": "Downloading builder script: 100%"
          }
        },
        "7d4b2195276f4102831eadf1bfc55dd4": {
          "model_module": "@jupyter-widgets/controls",
          "model_name": "FloatProgressModel",
          "model_module_version": "1.5.0",
          "state": {
            "_dom_classes": [],
            "_model_module": "@jupyter-widgets/controls",
            "_model_module_version": "1.5.0",
            "_model_name": "FloatProgressModel",
            "_view_count": null,
            "_view_module": "@jupyter-widgets/controls",
            "_view_module_version": "1.5.0",
            "_view_name": "ProgressView",
            "bar_style": "success",
            "description": "",
            "description_tooltip": null,
            "layout": "IPY_MODEL_1b9b8932718b4ceba5c5a535d4baf7cf",
            "max": 12867,
            "min": 0,
            "orientation": "horizontal",
            "style": "IPY_MODEL_ac92a2b5b9fc411dba3fe90fd445cb12",
            "value": 12867
          }
        },
        "955f2efd9e79430399f3eeda89e332a8": {
          "model_module": "@jupyter-widgets/controls",
          "model_name": "HTMLModel",
          "model_module_version": "1.5.0",
          "state": {
            "_dom_classes": [],
            "_model_module": "@jupyter-widgets/controls",
            "_model_module_version": "1.5.0",
            "_model_name": "HTMLModel",
            "_view_count": null,
            "_view_module": "@jupyter-widgets/controls",
            "_view_module_version": "1.5.0",
            "_view_name": "HTMLView",
            "description": "",
            "description_tooltip": null,
            "layout": "IPY_MODEL_29816a9a878b44bcbbab1df8bcfe31de",
            "placeholder": "​",
            "style": "IPY_MODEL_ef25e991a5744bff923a3c2b6c75e8fb",
            "value": " 12.9k/12.9k [00:00&lt;00:00, 450kB/s]"
          }
        },
        "ae5ae6c212ee45d4aa315fa5ba4ddbfb": {
          "model_module": "@jupyter-widgets/base",
          "model_name": "LayoutModel",
          "model_module_version": "1.2.0",
          "state": {
            "_model_module": "@jupyter-widgets/base",
            "_model_module_version": "1.2.0",
            "_model_name": "LayoutModel",
            "_view_count": null,
            "_view_module": "@jupyter-widgets/base",
            "_view_module_version": "1.2.0",
            "_view_name": "LayoutView",
            "align_content": null,
            "align_items": null,
            "align_self": null,
            "border": null,
            "bottom": null,
            "display": null,
            "flex": null,
            "flex_flow": null,
            "grid_area": null,
            "grid_auto_columns": null,
            "grid_auto_flow": null,
            "grid_auto_rows": null,
            "grid_column": null,
            "grid_gap": null,
            "grid_row": null,
            "grid_template_areas": null,
            "grid_template_columns": null,
            "grid_template_rows": null,
            "height": null,
            "justify_content": null,
            "justify_items": null,
            "left": null,
            "margin": null,
            "max_height": null,
            "max_width": null,
            "min_height": null,
            "min_width": null,
            "object_fit": null,
            "object_position": null,
            "order": null,
            "overflow": null,
            "overflow_x": null,
            "overflow_y": null,
            "padding": null,
            "right": null,
            "top": null,
            "visibility": null,
            "width": null
          }
        },
        "a3e62e458d0b43cd96a557a7c7fef01d": {
          "model_module": "@jupyter-widgets/base",
          "model_name": "LayoutModel",
          "model_module_version": "1.2.0",
          "state": {
            "_model_module": "@jupyter-widgets/base",
            "_model_module_version": "1.2.0",
            "_model_name": "LayoutModel",
            "_view_count": null,
            "_view_module": "@jupyter-widgets/base",
            "_view_module_version": "1.2.0",
            "_view_name": "LayoutView",
            "align_content": null,
            "align_items": null,
            "align_self": null,
            "border": null,
            "bottom": null,
            "display": null,
            "flex": null,
            "flex_flow": null,
            "grid_area": null,
            "grid_auto_columns": null,
            "grid_auto_flow": null,
            "grid_auto_rows": null,
            "grid_column": null,
            "grid_gap": null,
            "grid_row": null,
            "grid_template_areas": null,
            "grid_template_columns": null,
            "grid_template_rows": null,
            "height": null,
            "justify_content": null,
            "justify_items": null,
            "left": null,
            "margin": null,
            "max_height": null,
            "max_width": null,
            "min_height": null,
            "min_width": null,
            "object_fit": null,
            "object_position": null,
            "order": null,
            "overflow": null,
            "overflow_x": null,
            "overflow_y": null,
            "padding": null,
            "right": null,
            "top": null,
            "visibility": null,
            "width": null
          }
        },
        "a9882311f3364097a41f7bc33b1801ac": {
          "model_module": "@jupyter-widgets/controls",
          "model_name": "DescriptionStyleModel",
          "model_module_version": "1.5.0",
          "state": {
            "_model_module": "@jupyter-widgets/controls",
            "_model_module_version": "1.5.0",
            "_model_name": "DescriptionStyleModel",
            "_view_count": null,
            "_view_module": "@jupyter-widgets/base",
            "_view_module_version": "1.2.0",
            "_view_name": "StyleView",
            "description_width": ""
          }
        },
        "1b9b8932718b4ceba5c5a535d4baf7cf": {
          "model_module": "@jupyter-widgets/base",
          "model_name": "LayoutModel",
          "model_module_version": "1.2.0",
          "state": {
            "_model_module": "@jupyter-widgets/base",
            "_model_module_version": "1.2.0",
            "_model_name": "LayoutModel",
            "_view_count": null,
            "_view_module": "@jupyter-widgets/base",
            "_view_module_version": "1.2.0",
            "_view_name": "LayoutView",
            "align_content": null,
            "align_items": null,
            "align_self": null,
            "border": null,
            "bottom": null,
            "display": null,
            "flex": null,
            "flex_flow": null,
            "grid_area": null,
            "grid_auto_columns": null,
            "grid_auto_flow": null,
            "grid_auto_rows": null,
            "grid_column": null,
            "grid_gap": null,
            "grid_row": null,
            "grid_template_areas": null,
            "grid_template_columns": null,
            "grid_template_rows": null,
            "height": null,
            "justify_content": null,
            "justify_items": null,
            "left": null,
            "margin": null,
            "max_height": null,
            "max_width": null,
            "min_height": null,
            "min_width": null,
            "object_fit": null,
            "object_position": null,
            "order": null,
            "overflow": null,
            "overflow_x": null,
            "overflow_y": null,
            "padding": null,
            "right": null,
            "top": null,
            "visibility": null,
            "width": null
          }
        },
        "ac92a2b5b9fc411dba3fe90fd445cb12": {
          "model_module": "@jupyter-widgets/controls",
          "model_name": "ProgressStyleModel",
          "model_module_version": "1.5.0",
          "state": {
            "_model_module": "@jupyter-widgets/controls",
            "_model_module_version": "1.5.0",
            "_model_name": "ProgressStyleModel",
            "_view_count": null,
            "_view_module": "@jupyter-widgets/base",
            "_view_module_version": "1.2.0",
            "_view_name": "StyleView",
            "bar_color": null,
            "description_width": ""
          }
        },
        "29816a9a878b44bcbbab1df8bcfe31de": {
          "model_module": "@jupyter-widgets/base",
          "model_name": "LayoutModel",
          "model_module_version": "1.2.0",
          "state": {
            "_model_module": "@jupyter-widgets/base",
            "_model_module_version": "1.2.0",
            "_model_name": "LayoutModel",
            "_view_count": null,
            "_view_module": "@jupyter-widgets/base",
            "_view_module_version": "1.2.0",
            "_view_name": "LayoutView",
            "align_content": null,
            "align_items": null,
            "align_self": null,
            "border": null,
            "bottom": null,
            "display": null,
            "flex": null,
            "flex_flow": null,
            "grid_area": null,
            "grid_auto_columns": null,
            "grid_auto_flow": null,
            "grid_auto_rows": null,
            "grid_column": null,
            "grid_gap": null,
            "grid_row": null,
            "grid_template_areas": null,
            "grid_template_columns": null,
            "grid_template_rows": null,
            "height": null,
            "justify_content": null,
            "justify_items": null,
            "left": null,
            "margin": null,
            "max_height": null,
            "max_width": null,
            "min_height": null,
            "min_width": null,
            "object_fit": null,
            "object_position": null,
            "order": null,
            "overflow": null,
            "overflow_x": null,
            "overflow_y": null,
            "padding": null,
            "right": null,
            "top": null,
            "visibility": null,
            "width": null
          }
        },
        "ef25e991a5744bff923a3c2b6c75e8fb": {
          "model_module": "@jupyter-widgets/controls",
          "model_name": "DescriptionStyleModel",
          "model_module_version": "1.5.0",
          "state": {
            "_model_module": "@jupyter-widgets/controls",
            "_model_module_version": "1.5.0",
            "_model_name": "DescriptionStyleModel",
            "_view_count": null,
            "_view_module": "@jupyter-widgets/base",
            "_view_module_version": "1.2.0",
            "_view_name": "StyleView",
            "description_width": ""
          }
        },
        "c90437dcdcc747bb9e7e3e72e01e3473": {
          "model_module": "@jupyter-widgets/controls",
          "model_name": "HBoxModel",
          "model_module_version": "1.5.0",
          "state": {
            "_dom_classes": [],
            "_model_module": "@jupyter-widgets/controls",
            "_model_module_version": "1.5.0",
            "_model_name": "HBoxModel",
            "_view_count": null,
            "_view_module": "@jupyter-widgets/controls",
            "_view_module_version": "1.5.0",
            "_view_name": "HBoxView",
            "box_style": "",
            "children": [
              "IPY_MODEL_9e9648ac6b834444b5d2bec7066fe0d0",
              "IPY_MODEL_cee0bf25dd394296acdddd28eeba2515",
              "IPY_MODEL_8ea4712bf729467083c0d091eef6675d"
            ],
            "layout": "IPY_MODEL_32e55b1732534f25b5f6685f4e3da543"
          }
        },
        "9e9648ac6b834444b5d2bec7066fe0d0": {
          "model_module": "@jupyter-widgets/controls",
          "model_name": "HTMLModel",
          "model_module_version": "1.5.0",
          "state": {
            "_dom_classes": [],
            "_model_module": "@jupyter-widgets/controls",
            "_model_module_version": "1.5.0",
            "_model_name": "HTMLModel",
            "_view_count": null,
            "_view_module": "@jupyter-widgets/controls",
            "_view_module_version": "1.5.0",
            "_view_name": "HTMLView",
            "description": "",
            "description_tooltip": null,
            "layout": "IPY_MODEL_35e56bb012fa430b89cb2d94cc860f88",
            "placeholder": "​",
            "style": "IPY_MODEL_88addafc49e1488d883813664511dbb3",
            "value": "Downloading readme: 100%"
          }
        },
        "cee0bf25dd394296acdddd28eeba2515": {
          "model_module": "@jupyter-widgets/controls",
          "model_name": "FloatProgressModel",
          "model_module_version": "1.5.0",
          "state": {
            "_dom_classes": [],
            "_model_module": "@jupyter-widgets/controls",
            "_model_module_version": "1.5.0",
            "_model_name": "FloatProgressModel",
            "_view_count": null,
            "_view_module": "@jupyter-widgets/controls",
            "_view_module_version": "1.5.0",
            "_view_name": "ProgressView",
            "bar_style": "success",
            "description": "",
            "description_tooltip": null,
            "layout": "IPY_MODEL_7e278e43c9164e6f933daa2d47a84e40",
            "max": 13406,
            "min": 0,
            "orientation": "horizontal",
            "style": "IPY_MODEL_e6db8f795ece48ebb7988e655ab74b09",
            "value": 13406
          }
        },
        "8ea4712bf729467083c0d091eef6675d": {
          "model_module": "@jupyter-widgets/controls",
          "model_name": "HTMLModel",
          "model_module_version": "1.5.0",
          "state": {
            "_dom_classes": [],
            "_model_module": "@jupyter-widgets/controls",
            "_model_module_version": "1.5.0",
            "_model_name": "HTMLModel",
            "_view_count": null,
            "_view_module": "@jupyter-widgets/controls",
            "_view_module_version": "1.5.0",
            "_view_name": "HTMLView",
            "description": "",
            "description_tooltip": null,
            "layout": "IPY_MODEL_965cf5fa961f464aa879b130b8ce35f7",
            "placeholder": "​",
            "style": "IPY_MODEL_cd8c0c03ab7e461bb4dbc71f6a2d232c",
            "value": " 13.4k/13.4k [00:00&lt;00:00, 573kB/s]"
          }
        },
        "32e55b1732534f25b5f6685f4e3da543": {
          "model_module": "@jupyter-widgets/base",
          "model_name": "LayoutModel",
          "model_module_version": "1.2.0",
          "state": {
            "_model_module": "@jupyter-widgets/base",
            "_model_module_version": "1.2.0",
            "_model_name": "LayoutModel",
            "_view_count": null,
            "_view_module": "@jupyter-widgets/base",
            "_view_module_version": "1.2.0",
            "_view_name": "LayoutView",
            "align_content": null,
            "align_items": null,
            "align_self": null,
            "border": null,
            "bottom": null,
            "display": null,
            "flex": null,
            "flex_flow": null,
            "grid_area": null,
            "grid_auto_columns": null,
            "grid_auto_flow": null,
            "grid_auto_rows": null,
            "grid_column": null,
            "grid_gap": null,
            "grid_row": null,
            "grid_template_areas": null,
            "grid_template_columns": null,
            "grid_template_rows": null,
            "height": null,
            "justify_content": null,
            "justify_items": null,
            "left": null,
            "margin": null,
            "max_height": null,
            "max_width": null,
            "min_height": null,
            "min_width": null,
            "object_fit": null,
            "object_position": null,
            "order": null,
            "overflow": null,
            "overflow_x": null,
            "overflow_y": null,
            "padding": null,
            "right": null,
            "top": null,
            "visibility": null,
            "width": null
          }
        },
        "35e56bb012fa430b89cb2d94cc860f88": {
          "model_module": "@jupyter-widgets/base",
          "model_name": "LayoutModel",
          "model_module_version": "1.2.0",
          "state": {
            "_model_module": "@jupyter-widgets/base",
            "_model_module_version": "1.2.0",
            "_model_name": "LayoutModel",
            "_view_count": null,
            "_view_module": "@jupyter-widgets/base",
            "_view_module_version": "1.2.0",
            "_view_name": "LayoutView",
            "align_content": null,
            "align_items": null,
            "align_self": null,
            "border": null,
            "bottom": null,
            "display": null,
            "flex": null,
            "flex_flow": null,
            "grid_area": null,
            "grid_auto_columns": null,
            "grid_auto_flow": null,
            "grid_auto_rows": null,
            "grid_column": null,
            "grid_gap": null,
            "grid_row": null,
            "grid_template_areas": null,
            "grid_template_columns": null,
            "grid_template_rows": null,
            "height": null,
            "justify_content": null,
            "justify_items": null,
            "left": null,
            "margin": null,
            "max_height": null,
            "max_width": null,
            "min_height": null,
            "min_width": null,
            "object_fit": null,
            "object_position": null,
            "order": null,
            "overflow": null,
            "overflow_x": null,
            "overflow_y": null,
            "padding": null,
            "right": null,
            "top": null,
            "visibility": null,
            "width": null
          }
        },
        "88addafc49e1488d883813664511dbb3": {
          "model_module": "@jupyter-widgets/controls",
          "model_name": "DescriptionStyleModel",
          "model_module_version": "1.5.0",
          "state": {
            "_model_module": "@jupyter-widgets/controls",
            "_model_module_version": "1.5.0",
            "_model_name": "DescriptionStyleModel",
            "_view_count": null,
            "_view_module": "@jupyter-widgets/base",
            "_view_module_version": "1.2.0",
            "_view_name": "StyleView",
            "description_width": ""
          }
        },
        "7e278e43c9164e6f933daa2d47a84e40": {
          "model_module": "@jupyter-widgets/base",
          "model_name": "LayoutModel",
          "model_module_version": "1.2.0",
          "state": {
            "_model_module": "@jupyter-widgets/base",
            "_model_module_version": "1.2.0",
            "_model_name": "LayoutModel",
            "_view_count": null,
            "_view_module": "@jupyter-widgets/base",
            "_view_module_version": "1.2.0",
            "_view_name": "LayoutView",
            "align_content": null,
            "align_items": null,
            "align_self": null,
            "border": null,
            "bottom": null,
            "display": null,
            "flex": null,
            "flex_flow": null,
            "grid_area": null,
            "grid_auto_columns": null,
            "grid_auto_flow": null,
            "grid_auto_rows": null,
            "grid_column": null,
            "grid_gap": null,
            "grid_row": null,
            "grid_template_areas": null,
            "grid_template_columns": null,
            "grid_template_rows": null,
            "height": null,
            "justify_content": null,
            "justify_items": null,
            "left": null,
            "margin": null,
            "max_height": null,
            "max_width": null,
            "min_height": null,
            "min_width": null,
            "object_fit": null,
            "object_position": null,
            "order": null,
            "overflow": null,
            "overflow_x": null,
            "overflow_y": null,
            "padding": null,
            "right": null,
            "top": null,
            "visibility": null,
            "width": null
          }
        },
        "e6db8f795ece48ebb7988e655ab74b09": {
          "model_module": "@jupyter-widgets/controls",
          "model_name": "ProgressStyleModel",
          "model_module_version": "1.5.0",
          "state": {
            "_model_module": "@jupyter-widgets/controls",
            "_model_module_version": "1.5.0",
            "_model_name": "ProgressStyleModel",
            "_view_count": null,
            "_view_module": "@jupyter-widgets/base",
            "_view_module_version": "1.2.0",
            "_view_name": "StyleView",
            "bar_color": null,
            "description_width": ""
          }
        },
        "965cf5fa961f464aa879b130b8ce35f7": {
          "model_module": "@jupyter-widgets/base",
          "model_name": "LayoutModel",
          "model_module_version": "1.2.0",
          "state": {
            "_model_module": "@jupyter-widgets/base",
            "_model_module_version": "1.2.0",
            "_model_name": "LayoutModel",
            "_view_count": null,
            "_view_module": "@jupyter-widgets/base",
            "_view_module_version": "1.2.0",
            "_view_name": "LayoutView",
            "align_content": null,
            "align_items": null,
            "align_self": null,
            "border": null,
            "bottom": null,
            "display": null,
            "flex": null,
            "flex_flow": null,
            "grid_area": null,
            "grid_auto_columns": null,
            "grid_auto_flow": null,
            "grid_auto_rows": null,
            "grid_column": null,
            "grid_gap": null,
            "grid_row": null,
            "grid_template_areas": null,
            "grid_template_columns": null,
            "grid_template_rows": null,
            "height": null,
            "justify_content": null,
            "justify_items": null,
            "left": null,
            "margin": null,
            "max_height": null,
            "max_width": null,
            "min_height": null,
            "min_width": null,
            "object_fit": null,
            "object_position": null,
            "order": null,
            "overflow": null,
            "overflow_x": null,
            "overflow_y": null,
            "padding": null,
            "right": null,
            "top": null,
            "visibility": null,
            "width": null
          }
        },
        "cd8c0c03ab7e461bb4dbc71f6a2d232c": {
          "model_module": "@jupyter-widgets/controls",
          "model_name": "DescriptionStyleModel",
          "model_module_version": "1.5.0",
          "state": {
            "_model_module": "@jupyter-widgets/controls",
            "_model_module_version": "1.5.0",
            "_model_name": "DescriptionStyleModel",
            "_view_count": null,
            "_view_module": "@jupyter-widgets/base",
            "_view_module_version": "1.2.0",
            "_view_name": "StyleView",
            "description_width": ""
          }
        },
        "f6ff95cdfba04930a4111202c8d27685": {
          "model_module": "@jupyter-widgets/controls",
          "model_name": "HBoxModel",
          "model_module_version": "1.5.0",
          "state": {
            "_dom_classes": [],
            "_model_module": "@jupyter-widgets/controls",
            "_model_module_version": "1.5.0",
            "_model_name": "HBoxModel",
            "_view_count": null,
            "_view_module": "@jupyter-widgets/controls",
            "_view_module_version": "1.5.0",
            "_view_name": "HBoxView",
            "box_style": "",
            "children": [
              "IPY_MODEL_19e3d0799f784383a950c0c57b721e78",
              "IPY_MODEL_d70b5cffb7aa4180a604fc4502502a6a",
              "IPY_MODEL_fdcd158655464d6298bc4a02aec542cd"
            ],
            "layout": "IPY_MODEL_05277a86cb424920838711776059dd61"
          }
        },
        "19e3d0799f784383a950c0c57b721e78": {
          "model_module": "@jupyter-widgets/controls",
          "model_name": "HTMLModel",
          "model_module_version": "1.5.0",
          "state": {
            "_dom_classes": [],
            "_model_module": "@jupyter-widgets/controls",
            "_model_module_version": "1.5.0",
            "_model_name": "HTMLModel",
            "_view_count": null,
            "_view_module": "@jupyter-widgets/controls",
            "_view_module_version": "1.5.0",
            "_view_name": "HTMLView",
            "description": "",
            "description_tooltip": null,
            "layout": "IPY_MODEL_57dcb2db39634fec81d7580baab3ed6f",
            "placeholder": "​",
            "style": "IPY_MODEL_3df5c083ab624b65927db38457c026ad",
            "value": "Downloading data: 100%"
          }
        },
        "d70b5cffb7aa4180a604fc4502502a6a": {
          "model_module": "@jupyter-widgets/controls",
          "model_name": "FloatProgressModel",
          "model_module_version": "1.5.0",
          "state": {
            "_dom_classes": [],
            "_model_module": "@jupyter-widgets/controls",
            "_model_module_version": "1.5.0",
            "_model_name": "FloatProgressModel",
            "_view_count": null,
            "_view_module": "@jupyter-widgets/controls",
            "_view_module_version": "1.5.0",
            "_view_name": "ProgressView",
            "bar_style": "success",
            "description": "",
            "description_tooltip": null,
            "layout": "IPY_MODEL_9f849e18a49748b89f351772a7c48cbc",
            "max": 22322261,
            "min": 0,
            "orientation": "horizontal",
            "style": "IPY_MODEL_902620ba918048039f37198465d962ae",
            "value": 22322261
          }
        },
        "fdcd158655464d6298bc4a02aec542cd": {
          "model_module": "@jupyter-widgets/controls",
          "model_name": "HTMLModel",
          "model_module_version": "1.5.0",
          "state": {
            "_dom_classes": [],
            "_model_module": "@jupyter-widgets/controls",
            "_model_module_version": "1.5.0",
            "_model_name": "HTMLModel",
            "_view_count": null,
            "_view_module": "@jupyter-widgets/controls",
            "_view_module_version": "1.5.0",
            "_view_name": "HTMLView",
            "description": "",
            "description_tooltip": null,
            "layout": "IPY_MODEL_38c54f5f9a7243028a47caec10494892",
            "placeholder": "​",
            "style": "IPY_MODEL_311d45a4b3ee48f3853d55007558d6aa",
            "value": " 22.3M/22.3M [00:00&lt;00:00, 40.1MB/s]"
          }
        },
        "05277a86cb424920838711776059dd61": {
          "model_module": "@jupyter-widgets/base",
          "model_name": "LayoutModel",
          "model_module_version": "1.2.0",
          "state": {
            "_model_module": "@jupyter-widgets/base",
            "_model_module_version": "1.2.0",
            "_model_name": "LayoutModel",
            "_view_count": null,
            "_view_module": "@jupyter-widgets/base",
            "_view_module_version": "1.2.0",
            "_view_name": "LayoutView",
            "align_content": null,
            "align_items": null,
            "align_self": null,
            "border": null,
            "bottom": null,
            "display": null,
            "flex": null,
            "flex_flow": null,
            "grid_area": null,
            "grid_auto_columns": null,
            "grid_auto_flow": null,
            "grid_auto_rows": null,
            "grid_column": null,
            "grid_gap": null,
            "grid_row": null,
            "grid_template_areas": null,
            "grid_template_columns": null,
            "grid_template_rows": null,
            "height": null,
            "justify_content": null,
            "justify_items": null,
            "left": null,
            "margin": null,
            "max_height": null,
            "max_width": null,
            "min_height": null,
            "min_width": null,
            "object_fit": null,
            "object_position": null,
            "order": null,
            "overflow": null,
            "overflow_x": null,
            "overflow_y": null,
            "padding": null,
            "right": null,
            "top": null,
            "visibility": null,
            "width": null
          }
        },
        "57dcb2db39634fec81d7580baab3ed6f": {
          "model_module": "@jupyter-widgets/base",
          "model_name": "LayoutModel",
          "model_module_version": "1.2.0",
          "state": {
            "_model_module": "@jupyter-widgets/base",
            "_model_module_version": "1.2.0",
            "_model_name": "LayoutModel",
            "_view_count": null,
            "_view_module": "@jupyter-widgets/base",
            "_view_module_version": "1.2.0",
            "_view_name": "LayoutView",
            "align_content": null,
            "align_items": null,
            "align_self": null,
            "border": null,
            "bottom": null,
            "display": null,
            "flex": null,
            "flex_flow": null,
            "grid_area": null,
            "grid_auto_columns": null,
            "grid_auto_flow": null,
            "grid_auto_rows": null,
            "grid_column": null,
            "grid_gap": null,
            "grid_row": null,
            "grid_template_areas": null,
            "grid_template_columns": null,
            "grid_template_rows": null,
            "height": null,
            "justify_content": null,
            "justify_items": null,
            "left": null,
            "margin": null,
            "max_height": null,
            "max_width": null,
            "min_height": null,
            "min_width": null,
            "object_fit": null,
            "object_position": null,
            "order": null,
            "overflow": null,
            "overflow_x": null,
            "overflow_y": null,
            "padding": null,
            "right": null,
            "top": null,
            "visibility": null,
            "width": null
          }
        },
        "3df5c083ab624b65927db38457c026ad": {
          "model_module": "@jupyter-widgets/controls",
          "model_name": "DescriptionStyleModel",
          "model_module_version": "1.5.0",
          "state": {
            "_model_module": "@jupyter-widgets/controls",
            "_model_module_version": "1.5.0",
            "_model_name": "DescriptionStyleModel",
            "_view_count": null,
            "_view_module": "@jupyter-widgets/base",
            "_view_module_version": "1.2.0",
            "_view_name": "StyleView",
            "description_width": ""
          }
        },
        "9f849e18a49748b89f351772a7c48cbc": {
          "model_module": "@jupyter-widgets/base",
          "model_name": "LayoutModel",
          "model_module_version": "1.2.0",
          "state": {
            "_model_module": "@jupyter-widgets/base",
            "_model_module_version": "1.2.0",
            "_model_name": "LayoutModel",
            "_view_count": null,
            "_view_module": "@jupyter-widgets/base",
            "_view_module_version": "1.2.0",
            "_view_name": "LayoutView",
            "align_content": null,
            "align_items": null,
            "align_self": null,
            "border": null,
            "bottom": null,
            "display": null,
            "flex": null,
            "flex_flow": null,
            "grid_area": null,
            "grid_auto_columns": null,
            "grid_auto_flow": null,
            "grid_auto_rows": null,
            "grid_column": null,
            "grid_gap": null,
            "grid_row": null,
            "grid_template_areas": null,
            "grid_template_columns": null,
            "grid_template_rows": null,
            "height": null,
            "justify_content": null,
            "justify_items": null,
            "left": null,
            "margin": null,
            "max_height": null,
            "max_width": null,
            "min_height": null,
            "min_width": null,
            "object_fit": null,
            "object_position": null,
            "order": null,
            "overflow": null,
            "overflow_x": null,
            "overflow_y": null,
            "padding": null,
            "right": null,
            "top": null,
            "visibility": null,
            "width": null
          }
        },
        "902620ba918048039f37198465d962ae": {
          "model_module": "@jupyter-widgets/controls",
          "model_name": "ProgressStyleModel",
          "model_module_version": "1.5.0",
          "state": {
            "_model_module": "@jupyter-widgets/controls",
            "_model_module_version": "1.5.0",
            "_model_name": "ProgressStyleModel",
            "_view_count": null,
            "_view_module": "@jupyter-widgets/base",
            "_view_module_version": "1.2.0",
            "_view_name": "StyleView",
            "bar_color": null,
            "description_width": ""
          }
        },
        "38c54f5f9a7243028a47caec10494892": {
          "model_module": "@jupyter-widgets/base",
          "model_name": "LayoutModel",
          "model_module_version": "1.2.0",
          "state": {
            "_model_module": "@jupyter-widgets/base",
            "_model_module_version": "1.2.0",
            "_model_name": "LayoutModel",
            "_view_count": null,
            "_view_module": "@jupyter-widgets/base",
            "_view_module_version": "1.2.0",
            "_view_name": "LayoutView",
            "align_content": null,
            "align_items": null,
            "align_self": null,
            "border": null,
            "bottom": null,
            "display": null,
            "flex": null,
            "flex_flow": null,
            "grid_area": null,
            "grid_auto_columns": null,
            "grid_auto_flow": null,
            "grid_auto_rows": null,
            "grid_column": null,
            "grid_gap": null,
            "grid_row": null,
            "grid_template_areas": null,
            "grid_template_columns": null,
            "grid_template_rows": null,
            "height": null,
            "justify_content": null,
            "justify_items": null,
            "left": null,
            "margin": null,
            "max_height": null,
            "max_width": null,
            "min_height": null,
            "min_width": null,
            "object_fit": null,
            "object_position": null,
            "order": null,
            "overflow": null,
            "overflow_x": null,
            "overflow_y": null,
            "padding": null,
            "right": null,
            "top": null,
            "visibility": null,
            "width": null
          }
        },
        "311d45a4b3ee48f3853d55007558d6aa": {
          "model_module": "@jupyter-widgets/controls",
          "model_name": "DescriptionStyleModel",
          "model_module_version": "1.5.0",
          "state": {
            "_model_module": "@jupyter-widgets/controls",
            "_model_module_version": "1.5.0",
            "_model_name": "DescriptionStyleModel",
            "_view_count": null,
            "_view_module": "@jupyter-widgets/base",
            "_view_module_version": "1.2.0",
            "_view_name": "StyleView",
            "description_width": ""
          }
        },
        "4eaf733187e14487828c4b4dcab0a09e": {
          "model_module": "@jupyter-widgets/controls",
          "model_name": "HBoxModel",
          "model_module_version": "1.5.0",
          "state": {
            "_dom_classes": [],
            "_model_module": "@jupyter-widgets/controls",
            "_model_module_version": "1.5.0",
            "_model_name": "HBoxModel",
            "_view_count": null,
            "_view_module": "@jupyter-widgets/controls",
            "_view_module_version": "1.5.0",
            "_view_name": "HBoxView",
            "box_style": "",
            "children": [
              "IPY_MODEL_c88171d3e5784a23991b5c16c93b1f8a",
              "IPY_MODEL_8b15a9896b4e474c952f16584ae9bf3f",
              "IPY_MODEL_d1e40b4922b5497ab4e63e0ae99f3da1"
            ],
            "layout": "IPY_MODEL_415e3d7324c741b8ab41880fe82c0a46"
          }
        },
        "c88171d3e5784a23991b5c16c93b1f8a": {
          "model_module": "@jupyter-widgets/controls",
          "model_name": "HTMLModel",
          "model_module_version": "1.5.0",
          "state": {
            "_dom_classes": [],
            "_model_module": "@jupyter-widgets/controls",
            "_model_module_version": "1.5.0",
            "_model_name": "HTMLModel",
            "_view_count": null,
            "_view_module": "@jupyter-widgets/controls",
            "_view_module_version": "1.5.0",
            "_view_name": "HTMLView",
            "description": "",
            "description_tooltip": null,
            "layout": "IPY_MODEL_aff8b7880a564aa5979e1e963eea55e7",
            "placeholder": "​",
            "style": "IPY_MODEL_d595eb306a794bf5882359051326a39d",
            "value": "Generating train split: "
          }
        },
        "8b15a9896b4e474c952f16584ae9bf3f": {
          "model_module": "@jupyter-widgets/controls",
          "model_name": "FloatProgressModel",
          "model_module_version": "1.5.0",
          "state": {
            "_dom_classes": [],
            "_model_module": "@jupyter-widgets/controls",
            "_model_module_version": "1.5.0",
            "_model_name": "FloatProgressModel",
            "_view_count": null,
            "_view_module": "@jupyter-widgets/controls",
            "_view_module_version": "1.5.0",
            "_view_name": "ProgressView",
            "bar_style": "success",
            "description": "",
            "description_tooltip": null,
            "layout": "IPY_MODEL_43daa872ea5e4ff09bc32bcb49da5cee",
            "max": 1,
            "min": 0,
            "orientation": "horizontal",
            "style": "IPY_MODEL_5010dce62f82448aadb2ddb5430a3251",
            "value": 1
          }
        },
        "d1e40b4922b5497ab4e63e0ae99f3da1": {
          "model_module": "@jupyter-widgets/controls",
          "model_name": "HTMLModel",
          "model_module_version": "1.5.0",
          "state": {
            "_dom_classes": [],
            "_model_module": "@jupyter-widgets/controls",
            "_model_module_version": "1.5.0",
            "_model_name": "HTMLModel",
            "_view_count": null,
            "_view_module": "@jupyter-widgets/controls",
            "_view_module_version": "1.5.0",
            "_view_name": "HTMLView",
            "description": "",
            "description_tooltip": null,
            "layout": "IPY_MODEL_3536f8e07bd14c7ca4fdca7cca149807",
            "placeholder": "​",
            "style": "IPY_MODEL_c844fef3e528486e95d4326b77f70061",
            "value": " 199058/0 [00:08&lt;00:00, 29632.84 examples/s]"
          }
        },
        "415e3d7324c741b8ab41880fe82c0a46": {
          "model_module": "@jupyter-widgets/base",
          "model_name": "LayoutModel",
          "model_module_version": "1.2.0",
          "state": {
            "_model_module": "@jupyter-widgets/base",
            "_model_module_version": "1.2.0",
            "_model_name": "LayoutModel",
            "_view_count": null,
            "_view_module": "@jupyter-widgets/base",
            "_view_module_version": "1.2.0",
            "_view_name": "LayoutView",
            "align_content": null,
            "align_items": null,
            "align_self": null,
            "border": null,
            "bottom": null,
            "display": null,
            "flex": null,
            "flex_flow": null,
            "grid_area": null,
            "grid_auto_columns": null,
            "grid_auto_flow": null,
            "grid_auto_rows": null,
            "grid_column": null,
            "grid_gap": null,
            "grid_row": null,
            "grid_template_areas": null,
            "grid_template_columns": null,
            "grid_template_rows": null,
            "height": null,
            "justify_content": null,
            "justify_items": null,
            "left": null,
            "margin": null,
            "max_height": null,
            "max_width": null,
            "min_height": null,
            "min_width": null,
            "object_fit": null,
            "object_position": null,
            "order": null,
            "overflow": null,
            "overflow_x": null,
            "overflow_y": null,
            "padding": null,
            "right": null,
            "top": null,
            "visibility": null,
            "width": null
          }
        },
        "aff8b7880a564aa5979e1e963eea55e7": {
          "model_module": "@jupyter-widgets/base",
          "model_name": "LayoutModel",
          "model_module_version": "1.2.0",
          "state": {
            "_model_module": "@jupyter-widgets/base",
            "_model_module_version": "1.2.0",
            "_model_name": "LayoutModel",
            "_view_count": null,
            "_view_module": "@jupyter-widgets/base",
            "_view_module_version": "1.2.0",
            "_view_name": "LayoutView",
            "align_content": null,
            "align_items": null,
            "align_self": null,
            "border": null,
            "bottom": null,
            "display": null,
            "flex": null,
            "flex_flow": null,
            "grid_area": null,
            "grid_auto_columns": null,
            "grid_auto_flow": null,
            "grid_auto_rows": null,
            "grid_column": null,
            "grid_gap": null,
            "grid_row": null,
            "grid_template_areas": null,
            "grid_template_columns": null,
            "grid_template_rows": null,
            "height": null,
            "justify_content": null,
            "justify_items": null,
            "left": null,
            "margin": null,
            "max_height": null,
            "max_width": null,
            "min_height": null,
            "min_width": null,
            "object_fit": null,
            "object_position": null,
            "order": null,
            "overflow": null,
            "overflow_x": null,
            "overflow_y": null,
            "padding": null,
            "right": null,
            "top": null,
            "visibility": null,
            "width": null
          }
        },
        "d595eb306a794bf5882359051326a39d": {
          "model_module": "@jupyter-widgets/controls",
          "model_name": "DescriptionStyleModel",
          "model_module_version": "1.5.0",
          "state": {
            "_model_module": "@jupyter-widgets/controls",
            "_model_module_version": "1.5.0",
            "_model_name": "DescriptionStyleModel",
            "_view_count": null,
            "_view_module": "@jupyter-widgets/base",
            "_view_module_version": "1.2.0",
            "_view_name": "StyleView",
            "description_width": ""
          }
        },
        "43daa872ea5e4ff09bc32bcb49da5cee": {
          "model_module": "@jupyter-widgets/base",
          "model_name": "LayoutModel",
          "model_module_version": "1.2.0",
          "state": {
            "_model_module": "@jupyter-widgets/base",
            "_model_module_version": "1.2.0",
            "_model_name": "LayoutModel",
            "_view_count": null,
            "_view_module": "@jupyter-widgets/base",
            "_view_module_version": "1.2.0",
            "_view_name": "LayoutView",
            "align_content": null,
            "align_items": null,
            "align_self": null,
            "border": null,
            "bottom": null,
            "display": null,
            "flex": null,
            "flex_flow": null,
            "grid_area": null,
            "grid_auto_columns": null,
            "grid_auto_flow": null,
            "grid_auto_rows": null,
            "grid_column": null,
            "grid_gap": null,
            "grid_row": null,
            "grid_template_areas": null,
            "grid_template_columns": null,
            "grid_template_rows": null,
            "height": null,
            "justify_content": null,
            "justify_items": null,
            "left": null,
            "margin": null,
            "max_height": null,
            "max_width": null,
            "min_height": null,
            "min_width": null,
            "object_fit": null,
            "object_position": null,
            "order": null,
            "overflow": null,
            "overflow_x": null,
            "overflow_y": null,
            "padding": null,
            "right": null,
            "top": null,
            "visibility": null,
            "width": "20px"
          }
        },
        "5010dce62f82448aadb2ddb5430a3251": {
          "model_module": "@jupyter-widgets/controls",
          "model_name": "ProgressStyleModel",
          "model_module_version": "1.5.0",
          "state": {
            "_model_module": "@jupyter-widgets/controls",
            "_model_module_version": "1.5.0",
            "_model_name": "ProgressStyleModel",
            "_view_count": null,
            "_view_module": "@jupyter-widgets/base",
            "_view_module_version": "1.2.0",
            "_view_name": "StyleView",
            "bar_color": null,
            "description_width": ""
          }
        },
        "3536f8e07bd14c7ca4fdca7cca149807": {
          "model_module": "@jupyter-widgets/base",
          "model_name": "LayoutModel",
          "model_module_version": "1.2.0",
          "state": {
            "_model_module": "@jupyter-widgets/base",
            "_model_module_version": "1.2.0",
            "_model_name": "LayoutModel",
            "_view_count": null,
            "_view_module": "@jupyter-widgets/base",
            "_view_module_version": "1.2.0",
            "_view_name": "LayoutView",
            "align_content": null,
            "align_items": null,
            "align_self": null,
            "border": null,
            "bottom": null,
            "display": null,
            "flex": null,
            "flex_flow": null,
            "grid_area": null,
            "grid_auto_columns": null,
            "grid_auto_flow": null,
            "grid_auto_rows": null,
            "grid_column": null,
            "grid_gap": null,
            "grid_row": null,
            "grid_template_areas": null,
            "grid_template_columns": null,
            "grid_template_rows": null,
            "height": null,
            "justify_content": null,
            "justify_items": null,
            "left": null,
            "margin": null,
            "max_height": null,
            "max_width": null,
            "min_height": null,
            "min_width": null,
            "object_fit": null,
            "object_position": null,
            "order": null,
            "overflow": null,
            "overflow_x": null,
            "overflow_y": null,
            "padding": null,
            "right": null,
            "top": null,
            "visibility": null,
            "width": null
          }
        },
        "c844fef3e528486e95d4326b77f70061": {
          "model_module": "@jupyter-widgets/controls",
          "model_name": "DescriptionStyleModel",
          "model_module_version": "1.5.0",
          "state": {
            "_model_module": "@jupyter-widgets/controls",
            "_model_module_version": "1.5.0",
            "_model_name": "DescriptionStyleModel",
            "_view_count": null,
            "_view_module": "@jupyter-widgets/base",
            "_view_module_version": "1.2.0",
            "_view_name": "StyleView",
            "description_width": ""
          }
        }
      }
    }
  },
  "cells": [
    {
      "cell_type": "markdown",
      "source": [
        "# Course 2 : Tokenization\n",
        "\n",
        "The slides of the course are available [here](https://github.com/NathanGodey/AdvancedNLP/raw/main/slides/pdf/course2_tokenization.pdf)"
      ],
      "metadata": {
        "id": "hnwkEOsOHJqu"
      }
    },
    {
      "cell_type": "markdown",
      "source": [
        "## Part 0 : Data preparation\n",
        "\n",
        "In this part, we'll install some libraries and prepare text datasets."
      ],
      "metadata": {
        "id": "Q2iTpErOJ_Xo"
      }
    },
    {
      "cell_type": "code",
      "source": [
        "!pip install datasets > /dev/null"
      ],
      "metadata": {
        "id": "aYJoN6KMKQVv"
      },
      "execution_count": null,
      "outputs": []
    },
    {
      "cell_type": "markdown",
      "source": [
        "#### Question 1\n",
        "Using the documentation of the [`load_dataset`](https://huggingface.co/docs/datasets/v2.12.0/en/package_reference/loading_methods#datasets.load_dataset) function, download a <ins>natural language</ins> dataset from [HuggingFace's Hub](https://huggingface.co/datasets?sort=downloads). When picking your dataset, think about the following questions:\n",
        "- What language do I want to use?\n",
        "- What kind of language style is best suited for general tokenization?\n",
        "- How big should my dataset be?"
      ],
      "metadata": {
        "id": "I-AVyjbCKgjo"
      }
    },
    {
      "cell_type": "code",
      "source": [
        "from datasets import load_dataset\n",
        "\n",
        "my_dataset = load_dataset(...)"
      ],
      "metadata": {
        "id": "4_IhkLTeKX7z",
        "colab": {
          "base_uri": "https://localhost:8080/",
          "height": 145,
          "referenced_widgets": [
            "6f75bf071ab649c69f164ea7a9c00c2f",
            "406218ccde834c66a24f975ebf4f4a2f",
            "7d4b2195276f4102831eadf1bfc55dd4",
            "955f2efd9e79430399f3eeda89e332a8",
            "ae5ae6c212ee45d4aa315fa5ba4ddbfb",
            "a3e62e458d0b43cd96a557a7c7fef01d",
            "a9882311f3364097a41f7bc33b1801ac",
            "1b9b8932718b4ceba5c5a535d4baf7cf",
            "ac92a2b5b9fc411dba3fe90fd445cb12",
            "29816a9a878b44bcbbab1df8bcfe31de",
            "ef25e991a5744bff923a3c2b6c75e8fb",
            "c90437dcdcc747bb9e7e3e72e01e3473",
            "9e9648ac6b834444b5d2bec7066fe0d0",
            "cee0bf25dd394296acdddd28eeba2515",
            "8ea4712bf729467083c0d091eef6675d",
            "32e55b1732534f25b5f6685f4e3da543",
            "35e56bb012fa430b89cb2d94cc860f88",
            "88addafc49e1488d883813664511dbb3",
            "7e278e43c9164e6f933daa2d47a84e40",
            "e6db8f795ece48ebb7988e655ab74b09",
            "965cf5fa961f464aa879b130b8ce35f7",
            "cd8c0c03ab7e461bb4dbc71f6a2d232c",
            "f6ff95cdfba04930a4111202c8d27685",
            "19e3d0799f784383a950c0c57b721e78",
            "d70b5cffb7aa4180a604fc4502502a6a",
            "fdcd158655464d6298bc4a02aec542cd",
            "05277a86cb424920838711776059dd61",
            "57dcb2db39634fec81d7580baab3ed6f",
            "3df5c083ab624b65927db38457c026ad",
            "9f849e18a49748b89f351772a7c48cbc",
            "902620ba918048039f37198465d962ae",
            "38c54f5f9a7243028a47caec10494892",
            "311d45a4b3ee48f3853d55007558d6aa",
            "4eaf733187e14487828c4b4dcab0a09e",
            "c88171d3e5784a23991b5c16c93b1f8a",
            "8b15a9896b4e474c952f16584ae9bf3f",
            "d1e40b4922b5497ab4e63e0ae99f3da1",
            "415e3d7324c741b8ab41880fe82c0a46",
            "aff8b7880a564aa5979e1e963eea55e7",
            "d595eb306a794bf5882359051326a39d",
            "43daa872ea5e4ff09bc32bcb49da5cee",
            "5010dce62f82448aadb2ddb5430a3251",
            "3536f8e07bd14c7ca4fdca7cca149807",
            "c844fef3e528486e95d4326b77f70061"
          ]
        },
        "outputId": "5c08a9d8-9187-4c24-fc6e-fc20323c32eb"
      },
      "execution_count": null,
      "outputs": [
        {
          "output_type": "display_data",
          "data": {
            "text/plain": [
              "Downloading builder script:   0%|          | 0.00/12.9k [00:00<?, ?B/s]"
            ],
            "application/vnd.jupyter.widget-view+json": {
              "version_major": 2,
              "version_minor": 0,
              "model_id": "6f75bf071ab649c69f164ea7a9c00c2f"
            }
          },
          "metadata": {}
        },
        {
          "output_type": "display_data",
          "data": {
            "text/plain": [
              "Downloading readme:   0%|          | 0.00/13.4k [00:00<?, ?B/s]"
            ],
            "application/vnd.jupyter.widget-view+json": {
              "version_major": 2,
              "version_minor": 0,
              "model_id": "c90437dcdcc747bb9e7e3e72e01e3473"
            }
          },
          "metadata": {}
        },
        {
          "output_type": "display_data",
          "data": {
            "text/plain": [
              "Downloading data:   0%|          | 0.00/22.3M [00:00<?, ?B/s]"
            ],
            "application/vnd.jupyter.widget-view+json": {
              "version_major": 2,
              "version_minor": 0,
              "model_id": "f6ff95cdfba04930a4111202c8d27685"
            }
          },
          "metadata": {}
        },
        {
          "output_type": "display_data",
          "data": {
            "text/plain": [
              "Generating train split: 0 examples [00:00, ? examples/s]"
            ],
            "application/vnd.jupyter.widget-view+json": {
              "version_major": 2,
              "version_minor": 0,
              "model_id": "4eaf733187e14487828c4b4dcab0a09e"
            }
          },
          "metadata": {}
        }
      ]
    },
    {
      "cell_type": "markdown",
      "source": [
        "#### Question 2\n",
        "\n",
        "Define a `pretokenize` function that splits an input string into word units. Try to deal with as many punctuation signs as possible. Add a `\"_\"` after every word in the style of BPE.\n",
        "\n",
        "**Example**\n",
        "```python\n",
        "pretokenize(\"My cat is blue!\") -> [\"My_\", \"cat_\", \"is_\", \"blue\", \"!\"]\n",
        "```\n"
      ],
      "metadata": {
        "id": "mDw3YeKKNIl0"
      }
    },
    {
      "cell_type": "code",
      "source": [
        "def pretokenize(input_string):\n",
        "  ...\n",
        "\n",
        "pretokenize(\"My cat is blue!\")"
      ],
      "metadata": {
        "id": "YhaxJuSzSs26"
      },
      "execution_count": null,
      "outputs": []
    },
    {
      "cell_type": "markdown",
      "source": [
        "#### Question 3\n",
        "Using the [`map`](https://huggingface.co/docs/datasets/process#map) method, generate a pretokenized version of your dataset."
      ],
      "metadata": {
        "id": "SKca1I3rS46G"
      }
    },
    {
      "cell_type": "code",
      "source": [
        "pretokenized_ds = ..."
      ],
      "metadata": {
        "id": "4LN5lUXQXl9A"
      },
      "execution_count": null,
      "outputs": []
    },
    {
      "cell_type": "markdown",
      "source": [
        "## Part 1 : Byte-Pair Encoding (BPE)"
      ],
      "metadata": {
        "id": "MmCS8_zGJu67"
      }
    },
    {
      "cell_type": "markdown",
      "source": [
        "Let's get the size of your corpus down to a testable one:"
      ],
      "metadata": {
        "id": "PRSv9iqJcAKl"
      }
    },
    {
      "cell_type": "code",
      "source": [
        "small_pretokenized_ds = pretokenized_ds.select(range(100))"
      ],
      "metadata": {
        "id": "bwdpI4AYcGG2"
      },
      "execution_count": null,
      "outputs": []
    },
    {
      "cell_type": "markdown",
      "source": [
        "#### Question 4 - Inference\n",
        "Define a function that computes a BPE tokenization given a list of possible merges `merges` and a string `input_string`. It should return a list of string tokens."
      ],
      "metadata": {
        "id": "0RjaU4yOUtQo"
      }
    },
    {
      "cell_type": "code",
      "source": [
        "from typing import List\n",
        "\n",
        "def bpe_inference(input_string, merges):\n",
        "  ..."
      ],
      "metadata": {
        "id": "Wp9JjqhXMQ9P"
      },
      "execution_count": null,
      "outputs": []
    },
    {
      "cell_type": "code",
      "source": [
        "test_input = list(\"education\")\n",
        "test_vocab = [(\"e\", \"d\"), (\"u\", \"c\"), (\"a\", \"t\"), (\"o\", \"n\"), (\"at\", \"i\"), (\"ed\", \"uc\"), (\"at\", \"ion\")]\n",
        "\n",
        "bpe_inference(input_string=test_input, vocabulary=test_vocab)"
      ],
      "metadata": {
        "id": "fyaqs5mWWrYM"
      },
      "execution_count": null,
      "outputs": []
    },
    {
      "cell_type": "markdown",
      "source": [
        "#### Question 5\n",
        "\n",
        "Turn every word in your dataset into a list of characters."
      ],
      "metadata": {
        "id": "xqZ4Zoggc_oJ"
      }
    },
    {
      "cell_type": "code",
      "source": [
        "def char_split(sample_string):\n",
        "  ..."
      ],
      "metadata": {
        "id": "mM7_aNMKdREq"
      },
      "execution_count": null,
      "outputs": []
    },
    {
      "cell_type": "code",
      "source": [
        "small_pretokenized_ds = small_pretokenized_ds.map(...)"
      ],
      "metadata": {
        "id": "sNWgB1LOeBdU"
      },
      "execution_count": null,
      "outputs": []
    },
    {
      "cell_type": "markdown",
      "source": [
        "#### Question 5\n",
        "\n",
        "Extract a starting `vocabulary` from the pretokenized dataset. It will be a dictionary mapping every character encountered in `small_pretokenized_ds` to its number of occurences."
      ],
      "metadata": {
        "id": "MDedjagbXYLz"
      }
    },
    {
      "cell_type": "code",
      "source": [
        "def get_init_vocab(dataset):\n",
        "  ..."
      ],
      "metadata": {
        "id": "sLjUJBg-ZfpB"
      },
      "execution_count": null,
      "outputs": []
    },
    {
      "cell_type": "code",
      "source": [
        "get_init_vocab(small_pretokenized_ds)"
      ],
      "metadata": {
        "id": "Gjq1fKwTccHJ"
      },
      "execution_count": null,
      "outputs": []
    },
    {
      "cell_type": "markdown",
      "source": [
        "#### Question 6\n",
        "Given a dataset `dataset` of list of tokenized sentences, create a function that finds the most common pair of consecutive tokens"
      ],
      "metadata": {
        "id": "beNeWU6UcfYJ"
      }
    },
    {
      "cell_type": "code",
      "source": [
        "def get_most_common_pair(dataset):\n",
        "  ..."
      ],
      "metadata": {
        "id": "Oa2NtLgwfM_N"
      },
      "execution_count": null,
      "outputs": []
    },
    {
      "cell_type": "code",
      "source": [
        "test_vocab = {\n",
        "    \"a\": 16,\n",
        "    \"b\": 293,\n",
        "    \"c\": 318\n",
        "}\n",
        "get_most_common_pair(small_pretokenized_ds, test_vocab)"
      ],
      "metadata": {
        "id": "zNdr2HUtfVsM"
      },
      "execution_count": null,
      "outputs": []
    },
    {
      "cell_type": "markdown",
      "source": [
        "#### Question 7\n",
        "We now need to create a function that:\n",
        "- adds the most common pair `merged_pair` into the `merges` object\n",
        "- merges the `merged_pair` occurences in the dataset\n",
        "- updates the `vocabulary` counts accordingly"
      ],
      "metadata": {
        "id": "AlaYAS-Hfn6Y"
      }
    },
    {
      "cell_type": "code",
      "source": [
        "def merge(merged_pair, merges, vocabulary, dataset):\n",
        "  # Add merged_pair to merges\n",
        "\n",
        "  # Find occurences corresponding to merged_pair in dataset and merge them together (+ keep count!)\n",
        "\n",
        "  # Update the vocabulary counts: add the merged_pair entry, and change the counts of the elements of the pair\n",
        "\n",
        "  return merges, vocabulary, dataset"
      ],
      "metadata": {
        "id": "Q9OYy2lEgfLO"
      },
      "execution_count": null,
      "outputs": []
    },
    {
      "cell_type": "code",
      "source": [
        "test_merged_pair = (\"aa\", \"b\")\n",
        "test_merges = [(\"a\", \"a\"), (\"a\", \"b\")]\n",
        "test_vocabulary = {\"a\": 2, \"b\": 4, \"aa\": 3, \"ab\": 1}\n",
        "test_dataset = [\n",
        "    [\"ab\", \"b\", \"b\", \"aa\", \"b\", \"a\"],\n",
        "    [\"aa\", \"b\", \"aa\", \"ab\", \"a\"]\n",
        "]\n",
        "\n",
        "merge(test_merged_pair, test_merges, test_vocabulary, test_dataset)"
      ],
      "metadata": {
        "id": "8X3kE4Leh7mQ"
      },
      "execution_count": null,
      "outputs": []
    },
    {
      "cell_type": "markdown",
      "source": [
        "#### Question 8\n"
      ],
      "metadata": {
        "id": "dwtHTz0shgxh"
      }
    },
    {
      "cell_type": "markdown",
      "source": [
        "Finally, we need to define a `cleanup` function, that removes unused items from the vocabulary:"
      ],
      "metadata": {
        "id": "0vrAyzFjjJMm"
      }
    },
    {
      "cell_type": "code",
      "source": [
        "def cleanup(vocabulary):\n",
        "  ..."
      ],
      "metadata": {
        "id": "l-ZkCY4OjHlR"
      },
      "execution_count": null,
      "outputs": []
    },
    {
      "cell_type": "code",
      "source": [
        "cleanup({\"a\": 4, \"b\": 5, \"if you see me there's a bug\": 0})"
      ],
      "metadata": {
        "id": "yaAeJ7LHjtew"
      },
      "execution_count": null,
      "outputs": []
    },
    {
      "cell_type": "markdown",
      "source": [
        "#### Question 9\n",
        "Let's now reset out small dataset to pack the whole BPE step in a function:"
      ],
      "metadata": {
        "id": "SE08F7x1j4i1"
      }
    },
    {
      "cell_type": "code",
      "source": [
        "small_pretokenized_ds = pretokenized_ds.select(range(100))"
      ],
      "metadata": {
        "id": "rGHAL0THklOc"
      },
      "execution_count": null,
      "outputs": []
    },
    {
      "cell_type": "markdown",
      "source": [
        "Everything is now setup for us to apply the BPE algorithm. Put the previous functions in the right order and iterate 100 steps of the BPE algorithm on any given dataset."
      ],
      "metadata": {
        "id": "E4szbFmjk2Ue"
      }
    },
    {
      "cell_type": "code",
      "source": [
        "from tqdm.notebook import tqdm\n",
        "\n",
        "def bpe_train(dataset, num_iters=100):\n",
        "\n",
        "  # Prepare dataset and get initial vocabulary\n",
        "\n",
        "  # Don't forget to initialize the list of possible merges\n",
        "\n",
        "  for num_iter in tqdm(range(num_iters)):\n",
        "    # Get the most common pair in the dataset\n",
        "\n",
        "    # Merge the most common pair and update all relevant objects\n",
        "\n",
        "    # Cleanup the vocabulary\n",
        "\n",
        "  # Return vocabulary and merges"
      ],
      "metadata": {
        "id": "FtZu1ti0k6Qq"
      },
      "execution_count": null,
      "outputs": []
    },
    {
      "cell_type": "markdown",
      "source": [
        "#### Question 10\n",
        "\n",
        "Using the previous `bpe_inference` function, try out a few sentences and see how well they are tokenized."
      ],
      "metadata": {
        "id": "xcPJz7C7mRqp"
      }
    },
    {
      "cell_type": "code",
      "source": [],
      "metadata": {
        "id": "RDZe_PPtmgEK"
      },
      "execution_count": null,
      "outputs": []
    },
    {
      "cell_type": "markdown",
      "source": [
        "#### Question 11\n",
        "\n",
        "Let's scale! We'll first increase the number of iterations. Modify the `bpe_train` function to get a track of the vocabulary size over iterations. After how many iterations is the vocabulary not getting bigger?"
      ],
      "metadata": {
        "id": "Fqv_-jAjmg0O"
      }
    },
    {
      "cell_type": "code",
      "source": [
        "def bpe_train(dataset, num_iters=100000):\n",
        "  ..."
      ],
      "metadata": {
        "id": "pkE7mFEQmQuS"
      },
      "execution_count": null,
      "outputs": []
    },
    {
      "cell_type": "code",
      "source": [
        "import matplotlib.pyplot as plt\n",
        "\n",
        "vocab, merges, vocab_size_over_iterations = bpe_train(small_pretokenized_ds)\n",
        "\n",
        "plt.plot(vocab_size_over_iterations)\n",
        "plt.xlabel(\"iterations\")\n",
        "plt.ylabel(\"vocabulary size\")\n",
        "plt.show()"
      ],
      "metadata": {
        "id": "9Ddsv9bVnRCo"
      },
      "execution_count": null,
      "outputs": []
    },
    {
      "cell_type": "markdown",
      "source": [
        "#### Question 12\n",
        "\n",
        "To improve the behaviour of our BPE tokenizer, we'll now scale in terms of data. Let's train a BPE tokenizer on a bigger slice of your original dataset. Try to estimate the computation time properly, and to pick an appropriate size."
      ],
      "metadata": {
        "id": "7VXtCr07npiF"
      }
    },
    {
      "cell_type": "code",
      "source": [
        "training_pretokenized_ds = pretokenized_ds.select(range(...))\n",
        "\n",
        "vocab, merges, vocab_size_over_iterations = bpe_train(training_pretokenized_ds, num_iters=...)"
      ],
      "metadata": {
        "id": "A0ukX4QvoSEH"
      },
      "execution_count": null,
      "outputs": []
    },
    {
      "cell_type": "markdown",
      "source": [
        "As in **Question 10**, use the tokenizer on a few of your own sentences, and see how it performs."
      ],
      "metadata": {
        "id": "UYrSS39Boej0"
      }
    },
    {
      "cell_type": "code",
      "source": [],
      "metadata": {
        "id": "5vB9Pp47oVLC"
      },
      "execution_count": null,
      "outputs": []
    },
    {
      "cell_type": "markdown",
      "source": [
        "## Part 2 : WordPiece\n",
        "\n",
        "#### Question 13\n",
        "Adapt the above part for the WordPiece algorithm. Try to keep memory and time complexity as low as possible!"
      ],
      "metadata": {
        "id": "jM1pvOjCoqy4"
      }
    },
    {
      "cell_type": "code",
      "source": [],
      "metadata": {
        "id": "vw-SCovno_i_"
      },
      "execution_count": null,
      "outputs": []
    },
    {
      "cell_type": "markdown",
      "source": [
        "#### Question 14\n",
        "\n",
        "How do WordPiece and BPE compare? You can compare training speed, quality of tokenization, vocabulary size..."
      ],
      "metadata": {
        "id": "i3gnYpe5o-YK"
      }
    },
    {
      "cell_type": "code",
      "source": [],
      "metadata": {
        "id": "nVFPJxHgrnw4"
      },
      "execution_count": null,
      "outputs": []
    },
    {
      "cell_type": "markdown",
      "source": [
        "## Part 3 : Unigram (open)\n"
      ],
      "metadata": {
        "id": "xc5Y1VF3rXQ5"
      }
    },
    {
      "cell_type": "markdown",
      "source": [
        "#### Question 15\n",
        "\n",
        "Implement the Unigram tokenizer and train it"
      ],
      "metadata": {
        "id": "H9t55IcCrg0q"
      }
    },
    {
      "cell_type": "code",
      "source": [],
      "metadata": {
        "id": "ZTMDinbHrSsg"
      },
      "execution_count": null,
      "outputs": []
    }
  ]
}