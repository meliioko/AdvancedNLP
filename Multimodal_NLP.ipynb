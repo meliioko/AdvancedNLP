{
  "cells": [
    {
      "cell_type": "markdown",
      "metadata": {
        "id": "hDhDy4TfD66C"
      },
      "source": [
        "# Multimodal NLP\n",
        "\n",
        "## Goal of the session\n",
        "\n",
        "The goal of the session is to turn an LLM into a multimodal chatbot without any training. To do so we will draw inspiration from https://arxiv.org/pdf/2201.05299.pdf.\n",
        "\n",
        "Concretely, you turn images into text or a set of labels and give these to the LLM.\n",
        "\n",
        "❗❗❗ SELECT A GPU HARDWARE ❗❗❗"
      ]
    },
    {
      "cell_type": "markdown",
      "metadata": {
        "id": "pkuP9FOUEwZi"
      },
      "source": [
        "### Requirements\n",
        "\n",
        "Install packages & import packages"
      ]
    },
    {
      "cell_type": "code",
      "execution_count": null,
      "metadata": {
        "id": "7e36uOgsD9Le"
      },
      "outputs": [],
      "source": [
        "!pip install transformers evaluate\n",
        "!pip install sentencepiece\n",
        "!pip install accelerate\n",
        "!pip install bitsandbytes\n",
        "!pip install xformers\n",
        "!pip install bert_score"
      ]
    },
    {
      "cell_type": "code",
      "execution_count": null,
      "metadata": {
        "id": "vldRDV2iGrUv"
      },
      "outputs": [],
      "source": [
        "from PIL import Image\n",
        "import time\n",
        "import torch\n",
        "import torch.nn as nn\n",
        "from torch.utils.data import Dataset, DataLoader\n",
        "from transformers import BitsAndBytesConfig, AutoModelForCausalLM, AutoTokenizer, TextStreamer, BlipProcessor, BlipForConditionalGeneration\n",
        "import torchvision\n",
        "from torchvision.models.detection import FasterRCNN\n",
        "from torchvision.models.detection.faster_rcnn import FastRCNNPredictor\n",
        "from torchvision.models.detection.rpn import AnchorGenerator\n",
        "from torchvision.transforms import v2 as T\n",
        "import numpy as np\n"
      ]
    },
    {
      "cell_type": "code",
      "source": [
        "from evaluate import load\n",
        "bertscore = load(\"bertscore\")"
      ],
      "metadata": {
        "id": "5HUvMSueajxs",
        "colab": {
          "base_uri": "https://localhost:8080/",
          "height": 49,
          "referenced_widgets": [
            "1c88ae0464ec44c994ebee3f3a252ca1",
            "901447c90a98494aaf93e230a6d233d7",
            "ea5c9de1c45c4fd0b8ee2b284447dd88",
            "7a11b03f4d654d7c9922630bc383568a",
            "d88c2ebd2f5a49ea8616cd743c1e735f",
            "169d1fba22c0431b843fe2fb075179f0",
            "08ea73f4df3947e3988445a70069c5ba",
            "ea34e5f195ca44dfafb005e500b6a80e",
            "c87adea3655c4bc182dce5689fa1ce8f",
            "797af5e3910a4ca287e961c89ed74b82",
            "8c91a207beec45079a408aff8bd2da13"
          ]
        },
        "outputId": "4498337c-1704-43f0-8f7d-ec3a4a383f0e"
      },
      "execution_count": null,
      "outputs": [
        {
          "output_type": "display_data",
          "data": {
            "text/plain": [
              "Downloading builder script:   0%|          | 0.00/7.95k [00:00<?, ?B/s]"
            ],
            "application/vnd.jupyter.widget-view+json": {
              "version_major": 2,
              "version_minor": 0,
              "model_id": "1c88ae0464ec44c994ebee3f3a252ca1"
            }
          },
          "metadata": {}
        }
      ]
    },
    {
      "cell_type": "code",
      "source": [
        "import locale\n",
        "locale.getpreferredencoding = lambda: \"UTF-8\""
      ],
      "metadata": {
        "id": "l1f6yi2OUymc"
      },
      "execution_count": null,
      "outputs": []
    },
    {
      "cell_type": "markdown",
      "metadata": {
        "id": "7okBFHETFNrp"
      },
      "source": [
        "### Inference with an LLM\n",
        "\n",
        "In this section you will use TinyLlama Chat, a language model of 1.1 billion parameters."
      ]
    },
    {
      "cell_type": "code",
      "execution_count": null,
      "metadata": {
        "id": "ohZrAlj3JzGl"
      },
      "outputs": [],
      "source": [
        "model_name = \"TinyLlama/TinyLlama-1.1b-Chat-v1.0\"\n",
        "device = torch.device(\"cuda\" if torch.cuda.is_available() else \"cpu\")"
      ]
    },
    {
      "cell_type": "markdown",
      "metadata": {
        "id": "6WXAEvD_UQZY"
      },
      "source": [
        "Definition of the prompt function to build inputs in the right format."
      ]
    },
    {
      "cell_type": "code",
      "execution_count": null,
      "metadata": {
        "id": "aIUuJ9ZASlhZ"
      },
      "outputs": [],
      "source": [
        "def user_prompt(text):\n",
        "  messages = f'''\n",
        "  <|system|> \\\n",
        "  You are a friendly chatbot who always responds in the style of a pirate.</s> \\\n",
        "  <|user|> \\\n",
        "  {text}</s> \\\n",
        "  <|assistant|>\n",
        "  '''\n",
        "  return messages"
      ]
    },
    {
      "cell_type": "markdown",
      "metadata": {
        "id": "6APZyAFSUd6k"
      },
      "source": [
        "To save memory you will load the model into NF4"
      ]
    },
    {
      "cell_type": "code",
      "execution_count": null,
      "metadata": {
        "id": "yTaVX9oPGvUp"
      },
      "outputs": [],
      "source": [
        "bnb_config = BitsAndBytesConfig(\n",
        "    load_in_4bit= True,\n",
        "    bnb_4bit_quant_type= \"nf4\",\n",
        "    bnb_4bit_compute_dtype= torch.float16,\n",
        "    bnb_4bit_use_double_quant= False,\n",
        ")"
      ]
    },
    {
      "cell_type": "code",
      "execution_count": null,
      "metadata": {
        "id": "y9PrGW2RLkZk"
      },
      "outputs": [],
      "source": [
        "model = AutoModelForCausalLM.from_pretrained(\n",
        "    model_name,\n",
        "    quantization_config=bnb_config,\n",
        "    device_map={\"\": 0}\n",
        ")\n",
        "model.eval()\n",
        "\n",
        "tokenizer = AutoTokenizer.from_pretrained(model_name, trust_remote_code=True)"
      ]
    },
    {
      "cell_type": "markdown",
      "source": [
        "Example"
      ],
      "metadata": {
        "id": "AMbZW_5IRub1"
      }
    },
    {
      "cell_type": "code",
      "execution_count": null,
      "metadata": {
        "id": "cNIM9nygTSMu"
      },
      "outputs": [],
      "source": [
        "text = '''\n",
        "\"The 2018 FIFA World Cup was the 21st FIFA World Cup, the quadrennial world championship \\\n",
        "for national football teams organized by FIFA. It took place in Russia from 14 June \\\n",
        "to 15 July 2018, after the country was awarded the hosting rights in late 2010. \\\n",
        "It was the eleventh time the championships had been held in Europe, the first \\\n",
        "time they were held in Eastern Europe, and the first time they were held across \\\n",
        "two continents (Europe and Asia). At an estimated cost of over $14.2 billion, \\\n",
        "it was the most expensive World Cup ever held until it was surpassed by the 2022 World Cup in Qatar.\" \\\n",
        "Based on the previous text, where did the World Cup took place?\n",
        "'''\n",
        "\n",
        "prompt = user_prompt(text)"
      ]
    },
    {
      "cell_type": "code",
      "execution_count": null,
      "metadata": {
        "colab": {
          "base_uri": "https://localhost:8080/"
        },
        "id": "Vb5FayeuMMwa",
        "outputId": "66cf03c5-ab56-4f92-aeb7-033c72d4adce"
      },
      "outputs": [
        {
          "output_type": "stream",
          "name": "stdout",
          "text": [
            "No, the giraffe in the image is not eating. The giraffe is shown as a static object, and the text \"GIFE\" is not visible in the image.\n"
          ]
        }
      ],
      "source": [
        "inputs = tokenizer([prompt], return_tensors=\"pt\").to(\"cuda:0\")\n",
        "streamer = TextStreamer(tokenizer, skip_prompt=True, skip_special_tokens=True)\n",
        "with torch.no_grad():\n",
        "  _ = model.generate(**inputs, streamer=streamer, max_new_tokens=500)"
      ]
    },
    {
      "cell_type": "markdown",
      "source": [
        "## Downloading data"
      ],
      "metadata": {
        "id": "BHe8fUdZyLgq"
      }
    },
    {
      "cell_type": "code",
      "source": [
        "import gdown\n",
        "gdown.download_folder(\"https://drive.google.com/drive/folders/1UsPWqPTFznqXBKoFFRUkud489CBR8-t1?usp=sharing\")"
      ],
      "metadata": {
        "id": "bLbZ0qCS2awn",
        "colab": {
          "base_uri": "https://localhost:8080/"
        },
        "outputId": "a3742035-0d04-444a-ee65-aab05568c586"
      },
      "execution_count": null,
      "outputs": [
        {
          "output_type": "stream",
          "name": "stderr",
          "text": [
            "Retrieving folder contents\n"
          ]
        },
        {
          "output_type": "stream",
          "name": "stdout",
          "text": [
            "Processing file 1PrL5EuW2PuTf4Hw9HQkL846M5YG7MAYq class_labels.txt\n",
            "Processing file 1U0JGb0ciIGBSCEdpEcXlV89cJATaNL1m valid_annotations.json\n",
            "Processing file 1_1TaGN0LPlb4dMTaOU0zqz0Asyw2opNT valid_imgs.tar.gz\n",
            "Processing file 12js7dgnPu5TvGE49gcv0gEgH8l5THZ1U vqa_valid_questions.json\n",
            "Building directory structure completed\n"
          ]
        },
        {
          "output_type": "stream",
          "name": "stderr",
          "text": [
            "Retrieving folder contents completed\n",
            "Building directory structure\n",
            "Downloading...\n",
            "From: https://drive.google.com/uc?id=1PrL5EuW2PuTf4Hw9HQkL846M5YG7MAYq\n",
            "To: /content/Lab session 9 - Multimodal NLP/class_labels.txt\n",
            "100%|██████████| 703/703 [00:00<00:00, 2.46MB/s]\n",
            "Downloading...\n",
            "From: https://drive.google.com/uc?id=1U0JGb0ciIGBSCEdpEcXlV89cJATaNL1m\n",
            "To: /content/Lab session 9 - Multimodal NLP/valid_annotations.json\n",
            "100%|██████████| 4.00M/4.00M [00:00<00:00, 151MB/s]\n",
            "Downloading...\n",
            "From (original): https://drive.google.com/uc?id=1_1TaGN0LPlb4dMTaOU0zqz0Asyw2opNT\n",
            "From (redirected): https://drive.google.com/uc?id=1_1TaGN0LPlb4dMTaOU0zqz0Asyw2opNT&confirm=t&uuid=896a1a72-136f-401b-897b-9295eee8a595\n",
            "To: /content/Lab session 9 - Multimodal NLP/valid_imgs.tar.gz\n",
            "100%|██████████| 788M/788M [00:03<00:00, 219MB/s]\n",
            "Downloading...\n",
            "From: https://drive.google.com/uc?id=12js7dgnPu5TvGE49gcv0gEgH8l5THZ1U\n",
            "To: /content/Lab session 9 - Multimodal NLP/vqa_valid_questions.json\n",
            "100%|██████████| 462k/462k [00:00<00:00, 108MB/s]\n",
            "Download completed\n"
          ]
        },
        {
          "output_type": "execute_result",
          "data": {
            "text/plain": [
              "['/content/Lab session 9 - Multimodal NLP/class_labels.txt',\n",
              " '/content/Lab session 9 - Multimodal NLP/valid_annotations.json',\n",
              " '/content/Lab session 9 - Multimodal NLP/valid_imgs.tar.gz',\n",
              " '/content/Lab session 9 - Multimodal NLP/vqa_valid_questions.json']"
            ]
          },
          "metadata": {},
          "execution_count": 8
        }
      ]
    },
    {
      "cell_type": "code",
      "source": [
        "!mv 'Lab session 9 - Multimodal NLP'/* .\n",
        "!rm -r 'Lab session 9 - Multimodal NLP'\n",
        "!tar -xvzf valid_imgs.tar.gz"
      ],
      "metadata": {
        "id": "NVG40VGo2o4O"
      },
      "execution_count": null,
      "outputs": []
    },
    {
      "cell_type": "markdown",
      "source": [
        "## Evaluation\n",
        "\n",
        "Evaluate TinyLlama (text-only) on the first 1000 examples of the valid benchmark."
      ],
      "metadata": {
        "id": "lmPxfgwU5X0f"
      }
    },
    {
      "cell_type": "code",
      "source": [
        "class EvalDataset(Dataset):\n",
        "  def __init__(self):\n",
        "\n",
        "    self.questions_fname = \"vqa_valid_questions.json\"\n",
        "    self.answers_fname = \"valid_annotations.json\"\n",
        "    self.imgs_folder = \"valid_imgs\"\n",
        "\n",
        "    ## TODO:\n",
        "    # Load data\n",
        "\n",
        "  def __len__(self):\n",
        "    ... # To complete\n",
        "\n",
        "  def __getitem__(self, item):\n",
        "    ... # To complete"
      ],
      "metadata": {
        "id": "g4Nj7tBh5lYM"
      },
      "execution_count": null,
      "outputs": []
    },
    {
      "cell_type": "code",
      "source": [
        "### TODO\n",
        "\"\"\"\n",
        "\n",
        "!!! Take 1,000 first examples as the test set. !!!\n",
        "\n",
        "Eval Tiny Llama (text-only version) on the VQA dataset. You will use bertscore, below is an example:\n",
        "\n",
        "predictions = [\"The table is made of wood\"]\n",
        "references = [\"made of wood\"]\n",
        "results = bertscore.compute(predictions=predictions, references=references, lang=\"en\")\n",
        "\n",
        "IMPORTANT: Try different prompts to make sure TinyLlama do not output long responses.\n",
        "\"\"\""
      ],
      "metadata": {
        "id": "Zp3fHNQp6OyA"
      },
      "execution_count": null,
      "outputs": []
    },
    {
      "cell_type": "markdown",
      "source": [
        "## Use an image captioner and an object detector to convert images as text"
      ],
      "metadata": {
        "id": "Xa0XOg10U5mH"
      }
    },
    {
      "cell_type": "markdown",
      "source": [
        "Image captioner"
      ],
      "metadata": {
        "id": "4QogUHf9VMa7"
      }
    },
    {
      "cell_type": "code",
      "execution_count": null,
      "metadata": {
        "id": "55oowl6iNi-M"
      },
      "outputs": [],
      "source": [
        "from transformers import BlipProcessor, BlipForConditionalGeneration\n",
        "import requests\n",
        "\n",
        "processor = BlipProcessor.from_pretrained(\"Salesforce/blip-image-captioning-base\")\n",
        "captioner = BlipForConditionalGeneration.from_pretrained(\"Salesforce/blip-image-captioning-base\",\n",
        "                                                         torch_dtype=torch.float16).to(\"cuda\")\n",
        "captioner.eval()\n",
        "captioner.to(device)\n",
        "\n",
        "# For usage, have a look here: https://huggingface.co/docs/transformers/model_doc/blip#transformers.BlipForConditionalGeneration"
      ]
    },
    {
      "cell_type": "code",
      "execution_count": null,
      "metadata": {
        "id": "Djh87vQyYH_c"
      },
      "outputs": [],
      "source": [
        "## TODO:\n",
        "\"\"\"\n",
        "Convert images into set of captions\n",
        "\"\"\"\n",
        "import os\n",
        "import pdb\n",
        "from PIL import Image\n",
        "\n",
        "class ImgDataset(Dataset):\n",
        "  def __init__(self, processor):\n",
        "    self.imgs_folder = \"valid_imgs\"\n",
        "    self.img_name_list = os.listdir(self.imgs_folder)\n",
        "    self.processor = processor\n",
        "\n",
        "  def img_name_to_img_idx(self, img_name):\n",
        "    return str(int(img_name.replace(\".jpg\", \"\").split(\"_\")[-1]))\n",
        "\n",
        "  def __len__(self):\n",
        "    return len(self.img_name_list)\n",
        "\n",
        "  def __getitem__(self, item):\n",
        "  ## To complete to load img\n",
        "    im_name = self.img_name_list[item]\n",
        "    img_idx = self.img_name_to_img_idx(im_name)\n",
        "\n",
        "    img = Image.open(os.path.join(self.imgs_folder, im_name))\n",
        "    text = \"A picture of\"\n",
        "    inputs = self.processor(img, text, return_tensors=\"pt\")\n",
        "    inputs.update({\"img_idx\": img_idx})\n",
        "\n",
        "    return inputs\n",
        "\n",
        "img_dataset = ImgDataset(processor)\n",
        "\n",
        "BATCH_SIZE = 16\n",
        "dataloader = DataLoader(img_dataset, batch_size=BATCH_SIZE, num_workers=2, shuffle=False)\n",
        "\n",
        "img_captions = {\"captions\": [], \"img_idx\": []} # keys are img index - values are the generated caption.\n"
      ]
    },
    {
      "cell_type": "code",
      "source": [
        "from tqdm import tqdm\n",
        "\n",
        "for batch in tqdm(dataloader):\n",
        "  img_captions[\"img_idx\"] += batch.pop(\"img_idx\")\n",
        "\n",
        "  batch = {k: v.to(device) for k, v in batch.items()}\n",
        "  batch[\"pixel_values\"] = batch[\"pixel_values\"][:, 0]\n",
        "  batch[\"input_ids\"] = batch[\"input_ids\"][:, 0]\n",
        "  batch[\"attention_mask\"] = batch[\"attention_mask\"][:, 0]\n",
        "\n",
        "  with torch.no_grad():\n",
        "    output = captioner.generate(**batch)\n",
        "    captions = processor.tokenizer.batch_decode(output, skip_special_tokens=True)\n",
        "    captions = [cap.replace(\"[SEP]\", \"\").replace(\"[PAD]\", \"\").strip(\".\").strip(\" \") + \".\" for cap in captions]\n",
        "    img_captions[\"captions\"] += captions"
      ],
      "metadata": {
        "colab": {
          "base_uri": "https://localhost:8080/"
        },
        "id": "AQiz5wJACnQW",
        "outputId": "14f99882-f18f-49c9-83df-2bd33b6054be"
      },
      "execution_count": null,
      "outputs": [
        {
          "output_type": "stream",
          "name": "stderr",
          "text": [
            "\r  0%|          | 0/300 [00:00<?, ?it/s]/usr/local/lib/python3.10/dist-packages/transformers/generation/utils.py:1273: UserWarning: Using the model-agnostic default `max_length` (=20) to control the generation length. We recommend setting `max_new_tokens` to control the maximum length of the generation.\n",
            "  warnings.warn(\n",
            "100%|██████████| 300/300 [02:49<00:00,  1.77it/s]\n"
          ]
        }
      ]
    },
    {
      "cell_type": "markdown",
      "source": [
        "Object detector"
      ],
      "metadata": {
        "id": "m5OxWBKyWHN8"
      }
    },
    {
      "cell_type": "code",
      "execution_count": null,
      "metadata": {
        "id": "je8N6D5LXHfm",
        "colab": {
          "base_uri": "https://localhost:8080/"
        },
        "outputId": "8c026da1-7b3a-4a22-f3d8-0b54bd1038ce"
      },
      "outputs": [
        {
          "output_type": "stream",
          "name": "stderr",
          "text": [
            "/usr/local/lib/python3.10/dist-packages/torchvision/models/_utils.py:208: UserWarning: The parameter 'pretrained' is deprecated since 0.13 and may be removed in the future, please use 'weights' instead.\n",
            "  warnings.warn(\n",
            "/usr/local/lib/python3.10/dist-packages/torchvision/models/_utils.py:223: UserWarning: Arguments other than a weight enum or `None` for 'weights' are deprecated since 0.13 and may be removed in the future. The current behavior is equivalent to passing `weights=FasterRCNN_ResNet50_FPN_Weights.COCO_V1`. You can also use `weights=FasterRCNN_ResNet50_FPN_Weights.DEFAULT` to get the most up-to-date weights.\n",
            "  warnings.warn(msg)\n",
            "Downloading: \"https://download.pytorch.org/models/fasterrcnn_resnet50_fpn_coco-258fb6c6.pth\" to /root/.cache/torch/hub/checkpoints/fasterrcnn_resnet50_fpn_coco-258fb6c6.pth\n",
            "100%|██████████| 160M/160M [00:01<00:00, 140MB/s]\n",
            "/usr/local/lib/python3.10/dist-packages/torchvision/transforms/v2/_deprecated.py:43: UserWarning: The transform `ToTensor()` is deprecated and will be removed in a future release. Instead, please use `v2.Compose([v2.ToImage(), v2.ToDtype(torch.float32, scale=True)])`.\n",
            "  warnings.warn(\n"
          ]
        }
      ],
      "source": [
        "import torchvision\n",
        "from torchvision.models.detection import FasterRCNN\n",
        "from torchvision.models.detection.faster_rcnn import FastRCNNPredictor\n",
        "from torchvision.models.detection.rpn import AnchorGenerator\n",
        "from torchvision.transforms import v2 as T\n",
        "\n",
        "# load a model pre-trained on COCO\n",
        "detector = torchvision.models.detection.fasterrcnn_resnet50_fpn(pretrained=True)\n",
        "detector.eval()\n",
        "detector.to(device)\n",
        "\n",
        "transforms_fn = torch.nn.Sequential(\n",
        "    T.Normalize((0.485, 0.456, 0.406), (0.229, 0.224, 0.225)),\n",
        "    T.ToTensor(),\n",
        "  )"
      ]
    },
    {
      "cell_type": "code",
      "source": [
        "## TODO: read the class labels from class_labels.txt\n",
        "\n",
        "with open(\"class_labels.txt\", \"r\") as f:\n",
        "  labels = f.read().strip(\"\\n\").split(\"\\n\")\n",
        "\n",
        "id_2_classname = {idx: lab for idx, lab in enumerate(labels)}"
      ],
      "metadata": {
        "id": "LXoq8DNeW_1M"
      },
      "execution_count": null,
      "outputs": []
    },
    {
      "cell_type": "code",
      "execution_count": null,
      "metadata": {
        "id": "oPKjZMbba5T2"
      },
      "outputs": [],
      "source": [
        "## TODO:\n",
        "\"\"\"\n",
        "Convert images into set of detected objects. Apply a threshold of 0.5 on the detected probability, save coordinate related to the object.\n",
        "\"\"\"\n",
        "import os\n",
        "import pdb\n",
        "import numpy as np\n",
        "from tqdm import tqdm\n",
        "\n",
        "class ObjectDataset(Dataset):\n",
        "  def __init__(self, transform_fn):\n",
        "    self.imgs_folder = \"valid_imgs\"\n",
        "    self.img_name_list = os.listdir(self.imgs_folder)\n",
        "    self.transform_fn = transform_fn\n",
        "\n",
        "  def img_name_to_img_idx(self, img_name):\n",
        "    return str(int(img_name.replace(\".jpg\", \"\").split(\"_\")[-1]))\n",
        "\n",
        "  def __len__(self):\n",
        "    return len(self.img_name_list)\n",
        "\n",
        "  def __getitem__(self, item):\n",
        "  ## To complete to load img\n",
        "    im_name = self.img_name_list[item]\n",
        "    img_idx = self.img_name_to_img_idx(im_name)\n",
        "\n",
        "    img = Image.open(os.path.join(self.imgs_folder, im_name))\n",
        "    img_inps = T.Resize((224, 224))(self.transform_fn(np.array(img)))\n",
        "\n",
        "    if img_inps.size(0) == 1:\n",
        "      img_inps = img_inps.repeat(3, 1, 1)\n",
        "\n",
        "    return {\"pixel_values\": img_inps, \"img_idx\": img_idx}\n",
        "\n",
        "obj_dataset = ObjectDataset(transforms_fn)\n",
        "\n",
        "BATCH_SIZE = 16\n",
        "dataloader = DataLoader(obj_dataset, batch_size=BATCH_SIZE, num_workers=1, shuffle=False)\n",
        "\n",
        "img_obj = {} # keys are img_index - values are dict where keys are [\"detected_obj\", \"obj_loc\"] and values are class names and detected coordinates"
      ]
    },
    {
      "cell_type": "code",
      "source": [
        "for batch in tqdm(dataloader):\n",
        "  pixel_values = batch[\"pixel_values\"].to(device)\n",
        "  img_index = batch[\"img_idx\"]\n",
        "  with torch.no_grad():\n",
        "    output = detector(pixel_values)\n",
        "  for b_idx, out in enumerate(output):\n",
        "    valid_idx = torch.where(out[\"scores\"] > 0.5)\n",
        "    box_loc = out[\"boxes\"][valid_idx].cpu().tolist()\n",
        "    labels = out[\"labels\"][valid_idx].cpu().tolist()\n",
        "    lab_names = [id_2_classname[lab] for lab in labels]\n",
        "\n",
        "    img_obj[img_index[b_idx]] = {\"detected_obj\": lab_names, \"obj_loc\": box_loc}\n"
      ],
      "metadata": {
        "colab": {
          "base_uri": "https://localhost:8080/"
        },
        "id": "GjsS0k-wKkJk",
        "outputId": "c1dc4332-bbdf-4268-b47a-155b831dc9b7"
      },
      "execution_count": null,
      "outputs": [
        {
          "output_type": "stream",
          "name": "stderr",
          "text": [
            "\r  0%|          | 0/300 [00:00<?, ?it/s]/usr/local/lib/python3.10/dist-packages/torchvision/transforms/functional.py:1603: UserWarning: The default value of the antialias parameter of all the resizing transforms (Resize(), RandomResizedCrop(), etc.) will change from None to True in v0.17, in order to be consistent across the PIL and Tensor backends. To suppress this warning, directly pass antialias=True (recommended, future default), antialias=None (current default, which means False for Tensors and True for PIL), or antialias=False (only works on Tensors - PIL will still use antialiasing). This also applies if you are using the inference transforms from the models weights: update the call to weights.transforms(antialias=True).\n",
            "  warnings.warn(\n",
            "100%|██████████| 300/300 [06:17<00:00,  1.26s/it]\n"
          ]
        }
      ]
    },
    {
      "cell_type": "code",
      "source": [
        "torch.cuda.empty_cache()\n",
        "del detector"
      ],
      "metadata": {
        "id": "bCF-b3guZdU5"
      },
      "execution_count": null,
      "outputs": []
    },
    {
      "cell_type": "markdown",
      "source": [
        "## Build & Eval the newly multimodal model"
      ],
      "metadata": {
        "id": "sIdfiMtgZEYX"
      }
    },
    {
      "cell_type": "markdown",
      "source": [
        "Create a prompt function based on the question, the detected objects, captions and (optionally) object locations."
      ],
      "metadata": {
        "id": "wq3hlUz8ZLV1"
      }
    },
    {
      "cell_type": "code",
      "source": [
        "def visual_prompt(caption: str, detected_obj: list, obj_loc: list, question: str):\n",
        "  ### TODO: below is an example, change it with your own prompt. IMPORTANT: Try to force it output short answer.\n",
        "  text = f'''\n",
        "  {caption.strip(\".\")}. These objects {\",\".join(detected_obj)} are visible in the image. {question} Answer:\n",
        "  '''\n",
        "  return text"
      ],
      "metadata": {
        "id": "P01d4jV9ZJZD"
      },
      "execution_count": null,
      "outputs": []
    },
    {
      "cell_type": "code",
      "source": [
        "## TODO: Eval TinyLlama multimodal and compare to the text-only version\n",
        "import json\n",
        "\n",
        "with open(\"vqa_valid_questions.json\", \"r\") as fj:\n",
        "  questions = json.load(fj)\n",
        "\n",
        "test_questions = questions[:1000]"
      ],
      "metadata": {
        "id": "gC3kmI0NaQh2"
      },
      "execution_count": null,
      "outputs": []
    },
    {
      "cell_type": "code",
      "source": [
        "with open(\"valid_annotations.json\", \"r\") as fj:\n",
        "  annotations = json.load(fj)"
      ],
      "metadata": {
        "id": "jimxWSlVcf24"
      },
      "execution_count": null,
      "outputs": []
    },
    {
      "cell_type": "code",
      "source": [
        "test_annotations = annotations[:1000]"
      ],
      "metadata": {
        "id": "L7gRXctccmxG"
      },
      "execution_count": null,
      "outputs": []
    },
    {
      "cell_type": "code",
      "source": [
        "all_q, all_ans, all_model_ans = [], [], []\n",
        "for annot, ques in tqdm(zip(test_annotations, test_questions)):\n",
        "  q = ques[\"question\"]\n",
        "  img_id = ques[\"image_id\"]\n",
        "  ans = annot[\"multiple_choice_answer\"]\n",
        "\n",
        "  cap_idx = img_captions[\"img_idx\"].index(str(img_id))\n",
        "  cap = img_captions[\"captions\"][cap_idx]\n",
        "\n",
        "  obj_dict = img_obj[str(img_id)]\n",
        "  obj_labs = obj_dict[\"detected_obj\"]\n",
        "\n",
        "  vis_prompt = visual_prompt(cap, obj_labs, [], q)\n",
        "  prompt = user_prompt(vis_prompt)\n",
        "  inputs = tokenizer([prompt], return_tensors=\"pt\").to(\"cuda:0\")\n",
        "  with torch.no_grad():\n",
        "    pred = model.generate(**inputs, streamer=streamer, max_new_tokens=15)\n",
        "\n",
        "  model_answer = tokenizer.batch_decode(pred, skip_special_tokens=True)[0].split(\"<|assistant|>\")[-1].strip(\"\\n\").strip()\n",
        "\n",
        "  # Save results\n",
        "  all_q.append(q)\n",
        "  all_ans.append(ans)\n",
        "  all_model_ans.append(model_answer)\n"
      ],
      "metadata": {
        "id": "fU3gEekXcqhN"
      },
      "execution_count": null,
      "outputs": []
    },
    {
      "cell_type": "code",
      "source": [
        "score = bertscore.compute(predictions=all_model_ans, references=all_ans, lang=\"en\")"
      ],
      "metadata": {
        "colab": {
          "base_uri": "https://localhost:8080/",
          "height": 233,
          "referenced_widgets": [
            "bba764c1053545abafbdb7626fc43f17",
            "23c16242039d4199a8b52038c9c95993",
            "0b804a1e7c1f44c1b46c8c6f429c22ef",
            "8ecbb1d23d4b481dbd85ba9b8f19d274",
            "bfcfa9d31ab943429946fcb5d5ad8e4b",
            "6dfd8e7cb9354a5eae077e7efb4e6afe",
            "bfc5c2aa24a74ce3bcc98e38f792fb9f",
            "22ef9f38ce724089a002fb8e80cc3411",
            "800e60dc635b45df95a227c95fe0ece2",
            "319e52c430dd4625b371f5c2c615503c",
            "a4742e3c306e4095b7158449d78ae7b9",
            "021450d5d13e490fafe5eda39a502587",
            "f5f1a55ff31746358caea2ce36070d43",
            "51abfe547ad64f5a9570b2b97bbc7b97",
            "1c0e4616bebf4cb59ee5829e69b7d2cf",
            "bdfbb8a7b05b4ca3aea35b0aeac6b410",
            "c122f19c72f04e3aab4f0b009ff1446d",
            "4fac2ad036bd4cdebcba4faf9821b55c",
            "6f9e822d662649218762c569e7a4e7b5",
            "7c5d55b250dd4860ada475ec13d83982",
            "9d41e77632704aa1848c4db4785414b4",
            "c90113b545784680b36cc7c995395732",
            "601e4d7bd0e543d9b8aa6a47730c982f",
            "f26f1b3f6c524eaba9ea25c738e78bf2",
            "8355d3dcc4994a7fa544626b82a676da",
            "a5cd7bb75a8947879bb73c6585389c24",
            "c918f87cfb924d4fba08361f2bbfa329",
            "8725d3ccae4148ec902ea52b4b03d3df",
            "30cf528323d24745aa209f8bf91cfa87",
            "730fe205933c423cb19abdd2cf9b7a7a",
            "a5924be6489849e691c025696ef9f719",
            "2887db6ee18f43fd86f8e78f9c9e2ffc",
            "0bc0294beb1548a1bdac27e46a278371",
            "d08d422b16a3488f9689a16d9c9ef755",
            "97011f9d10954c9fa9c705eb47943f0d",
            "c40b828324c54d0cb9c854a1555ff36e",
            "58141da8b6cc49b29d53abeaddbb1d52",
            "a6ef4572586a47478105aed0b0d2543f",
            "d1917a5422e64e148050d67cc9b03684",
            "4b39404de8cc4ba39d3d2015d65dacdd",
            "17adc6fa869d4d248c84160515248031",
            "4aab1522096d410f929788412f3101ff",
            "c6bd3cf2747a4607bcfa2672bed37f3f",
            "496116498f694be6b515573dd684bb62",
            "16411a8ce9e44b289d87dafaf44bcb1a",
            "526b2292f58740f9bd06aa879f5ca8f4",
            "41c189f24c5c446fae67d1fef48fe0f9",
            "a1b72b51d77c4b85a9a8caec857e2eec",
            "018c7b36cbae4dd69ad314ab486c8a2b",
            "fa722e1ca60c41249692084bca2d2dd4",
            "67dd2e93534c4291a13d001024081d7b",
            "0addd9ae16c145628be2539c7588a1b6",
            "8a2e394db3a04ce18890c9eea76787cc",
            "10e67471392d42f886ce5d08ac9d5c7d",
            "d508b6c46db141f2982a07a0899a3af0"
          ]
        },
        "id": "Njs0iywxiXvq",
        "outputId": "6e910d75-01ed-4033-ebad-a25833c9c33c"
      },
      "execution_count": null,
      "outputs": [
        {
          "output_type": "display_data",
          "data": {
            "text/plain": [
              "config.json:   0%|          | 0.00/482 [00:00<?, ?B/s]"
            ],
            "application/vnd.jupyter.widget-view+json": {
              "version_major": 2,
              "version_minor": 0,
              "model_id": "bba764c1053545abafbdb7626fc43f17"
            }
          },
          "metadata": {}
        },
        {
          "output_type": "display_data",
          "data": {
            "text/plain": [
              "vocab.json:   0%|          | 0.00/899k [00:00<?, ?B/s]"
            ],
            "application/vnd.jupyter.widget-view+json": {
              "version_major": 2,
              "version_minor": 0,
              "model_id": "021450d5d13e490fafe5eda39a502587"
            }
          },
          "metadata": {}
        },
        {
          "output_type": "display_data",
          "data": {
            "text/plain": [
              "merges.txt:   0%|          | 0.00/456k [00:00<?, ?B/s]"
            ],
            "application/vnd.jupyter.widget-view+json": {
              "version_major": 2,
              "version_minor": 0,
              "model_id": "601e4d7bd0e543d9b8aa6a47730c982f"
            }
          },
          "metadata": {}
        },
        {
          "output_type": "display_data",
          "data": {
            "text/plain": [
              "tokenizer.json:   0%|          | 0.00/1.36M [00:00<?, ?B/s]"
            ],
            "application/vnd.jupyter.widget-view+json": {
              "version_major": 2,
              "version_minor": 0,
              "model_id": "d08d422b16a3488f9689a16d9c9ef755"
            }
          },
          "metadata": {}
        },
        {
          "output_type": "display_data",
          "data": {
            "text/plain": [
              "model.safetensors:   0%|          | 0.00/1.42G [00:00<?, ?B/s]"
            ],
            "application/vnd.jupyter.widget-view+json": {
              "version_major": 2,
              "version_minor": 0,
              "model_id": "16411a8ce9e44b289d87dafaf44bcb1a"
            }
          },
          "metadata": {}
        },
        {
          "output_type": "stream",
          "name": "stderr",
          "text": [
            "Some weights of RobertaModel were not initialized from the model checkpoint at roberta-large and are newly initialized: ['roberta.pooler.dense.bias', 'roberta.pooler.dense.weight']\n",
            "You should probably TRAIN this model on a down-stream task to be able to use it for predictions and inference.\n"
          ]
        }
      ]
    },
    {
      "cell_type": "code",
      "source": [
        "print(f\"Precision: {np.mean(score['precision'])}\")\n",
        "print(f\"Recall: {np.mean(score['recall'])}\")\n",
        "print(f\"F1 Score: {np.mean(score['f1'])}\")"
      ],
      "metadata": {
        "colab": {
          "base_uri": "https://localhost:8080/"
        },
        "id": "IyM5Bwneir2k",
        "outputId": "c4c9977c-1b96-4951-d605-5e4856d8a904"
      },
      "execution_count": null,
      "outputs": [
        {
          "output_type": "stream",
          "name": "stdout",
          "text": [
            "Precision: 0.8116519441604614\n",
            "Recall: 0.8261530102491379\n",
            "F1 Score: 0.8186268402934075\n"
          ]
        }
      ]
    },
    {
      "cell_type": "markdown",
      "source": [
        "## In-context learning abilities\n",
        "\n",
        "You will add examples in the prompt and eval the results. You will use 1, 2 and 4 examples.\n"
      ],
      "metadata": {
        "id": "0z6SOnU7a4hR"
      }
    },
    {
      "cell_type": "code",
      "source": [
        "## TODO: Build a training dataset where to draw examples RANDOMLY. You will use the 4,000 remaining examples as your training set."
      ],
      "metadata": {
        "id": "Srl0vriwbYFp"
      },
      "execution_count": null,
      "outputs": []
    },
    {
      "cell_type": "code",
      "source": [
        "## TODO: build a new prompt function to include the in context examples\n",
        "import random\n",
        "\n",
        "train_questions, train_answers = questions[1000:], annotations[1000:]\n",
        "\n",
        "def incontext_visual_prompt(caption: str, detected_obj: list, obj_loc: list,\n",
        "                            question: str, answer: str):\n",
        "  text = visual_prompt(caption, detected_obj, obj_loc, question) + f\" {answer}.\"\n",
        "  return text\n",
        "\n",
        "def full_visual_prompt(caption: str, detected_obj: list, obj_loc: list,\n",
        "                       question: str, num_in_context_exs: int):\n",
        "  text = \"\"\n",
        "  for in_context_ex in range(num_in_context_exs):\n",
        "    tr_id = random.choice(range(4000))\n",
        "    ques = train_questions[tr_id]\n",
        "    annot = train_answers[tr_id]\n",
        "\n",
        "    q = ques[\"question\"]\n",
        "    img_id = ques[\"image_id\"]\n",
        "    ans = annot[\"multiple_choice_answer\"]\n",
        "\n",
        "    cap_idx = img_captions[\"img_idx\"].index(str(img_id))\n",
        "    cap = img_captions[\"captions\"][cap_idx]\n",
        "\n",
        "    obj_dict = img_obj[str(img_id)]\n",
        "    obj_labs = obj_dict[\"detected_obj\"]\n",
        "\n",
        "    text += incontext_visual_prompt(cap, obj_labs, [], q, ans)\n",
        "    ## TODO: to complete\n",
        "\n",
        "  text+= visual_prompt(caption, detected_obj, obj_loc, question)\n",
        "  return text"
      ],
      "metadata": {
        "id": "Pwj3SDeUboVT"
      },
      "execution_count": null,
      "outputs": []
    },
    {
      "cell_type": "code",
      "source": [
        "all_q, all_ans, all_model_ans = [], [], []\n",
        "for annot, ques in tqdm(zip(test_annotations, test_questions)):\n",
        "  q = ques[\"question\"]\n",
        "  img_id = ques[\"image_id\"]\n",
        "  ans = annot[\"multiple_choice_answer\"]\n",
        "\n",
        "  cap_idx = img_captions[\"img_idx\"].index(str(img_id))\n",
        "  cap = img_captions[\"captions\"][cap_idx]\n",
        "\n",
        "  obj_dict = img_obj[str(img_id)]\n",
        "  obj_labs = obj_dict[\"detected_obj\"]\n",
        "\n",
        "  vis_prompt = full_visual_prompt(cap, obj_labs, [], q, 1)\n",
        "  print(vis_prompt)\n",
        "  prompt = user_prompt(vis_prompt)\n",
        "  inputs = tokenizer([prompt], return_tensors=\"pt\").to(\"cuda:0\")\n",
        "  with torch.no_grad():\n",
        "    pred = model.generate(**inputs, streamer=streamer, max_new_tokens=15)\n",
        "\n",
        "  model_answer = tokenizer.batch_decode(pred, skip_special_tokens=True)[0].split(\"<|assistant|>\")[-1].strip(\"\\n\").strip()\n",
        "\n",
        "  # Save results\n",
        "  all_q.append(q)\n",
        "  all_ans.append(ans)\n",
        "  all_model_ans.append(model_answer)\n"
      ],
      "metadata": {
        "id": "ELsl9auMlmUM"
      },
      "execution_count": null,
      "outputs": []
    },
    {
      "cell_type": "code",
      "source": [
        "## TODO: Eval multimodal TinyLlama on the 1,000 eval examples"
      ],
      "metadata": {
        "id": "7MNBo1nwcgZJ"
      },
      "execution_count": null,
      "outputs": []
    },
    {
      "cell_type": "markdown",
      "source": [
        "## Selective in-context examples\n",
        "\n",
        "To further improve the results, you can select examples close to the one you are currently evaluating your model on instead of choosing them randomly.\n",
        "\n",
        "To do so, you will search in the training set for question similar to the current eval question."
      ],
      "metadata": {
        "id": "FIrEAa33cyv6"
      }
    },
    {
      "cell_type": "code",
      "source": [
        "## TODO: use bert score to rank the questions in the training set w.r.t the eval question."
      ],
      "metadata": {
        "id": "kLc3tnAgdT1x"
      },
      "execution_count": null,
      "outputs": []
    },
    {
      "cell_type": "code",
      "source": [
        "## TODO: Select in-context examples for each eval sample. IMPORTANT: make sure that the in-context related images are not the same as the one you use for evaluation."
      ],
      "metadata": {
        "id": "D1hZtBCpdhbS"
      },
      "execution_count": null,
      "outputs": []
    },
    {
      "cell_type": "code",
      "source": [
        "## TODO: Eval multimodal TinyLlama with this method and compare with previous results."
      ],
      "metadata": {
        "id": "3hTiQV9Rd61E"
      },
      "execution_count": null,
      "outputs": []
    },
    {
      "cell_type": "markdown",
      "source": [
        "# Play with the model\n",
        "\n",
        "Now you have finished the lab you can play with the model. Give it whatever image you want and ask it whatever you want about it."
      ],
      "metadata": {
        "id": "FVfbJl3EeAHZ"
      }
    }
  ],
  "metadata": {
    "colab": {
      "provenance": [],
      "gpuType": "T4"
    },
    "kernelspec": {
      "display_name": "Python 3",
      "name": "python3"
    },
    "language_info": {
      "name": "python"
    },
    "accelerator": "GPU",
    "widgets": {
      "application/vnd.jupyter.widget-state+json": {
        "1c88ae0464ec44c994ebee3f3a252ca1": {
          "model_module": "@jupyter-widgets/controls",
          "model_name": "HBoxModel",
          "model_module_version": "1.5.0",
          "state": {
            "_dom_classes": [],
            "_model_module": "@jupyter-widgets/controls",
            "_model_module_version": "1.5.0",
            "_model_name": "HBoxModel",
            "_view_count": null,
            "_view_module": "@jupyter-widgets/controls",
            "_view_module_version": "1.5.0",
            "_view_name": "HBoxView",
            "box_style": "",
            "children": [
              "IPY_MODEL_901447c90a98494aaf93e230a6d233d7",
              "IPY_MODEL_ea5c9de1c45c4fd0b8ee2b284447dd88",
              "IPY_MODEL_7a11b03f4d654d7c9922630bc383568a"
            ],
            "layout": "IPY_MODEL_d88c2ebd2f5a49ea8616cd743c1e735f"
          }
        },
        "901447c90a98494aaf93e230a6d233d7": {
          "model_module": "@jupyter-widgets/controls",
          "model_name": "HTMLModel",
          "model_module_version": "1.5.0",
          "state": {
            "_dom_classes": [],
            "_model_module": "@jupyter-widgets/controls",
            "_model_module_version": "1.5.0",
            "_model_name": "HTMLModel",
            "_view_count": null,
            "_view_module": "@jupyter-widgets/controls",
            "_view_module_version": "1.5.0",
            "_view_name": "HTMLView",
            "description": "",
            "description_tooltip": null,
            "layout": "IPY_MODEL_169d1fba22c0431b843fe2fb075179f0",
            "placeholder": "​",
            "style": "IPY_MODEL_08ea73f4df3947e3988445a70069c5ba",
            "value": "Downloading builder script: 100%"
          }
        },
        "ea5c9de1c45c4fd0b8ee2b284447dd88": {
          "model_module": "@jupyter-widgets/controls",
          "model_name": "FloatProgressModel",
          "model_module_version": "1.5.0",
          "state": {
            "_dom_classes": [],
            "_model_module": "@jupyter-widgets/controls",
            "_model_module_version": "1.5.0",
            "_model_name": "FloatProgressModel",
            "_view_count": null,
            "_view_module": "@jupyter-widgets/controls",
            "_view_module_version": "1.5.0",
            "_view_name": "ProgressView",
            "bar_style": "success",
            "description": "",
            "description_tooltip": null,
            "layout": "IPY_MODEL_ea34e5f195ca44dfafb005e500b6a80e",
            "max": 7950,
            "min": 0,
            "orientation": "horizontal",
            "style": "IPY_MODEL_c87adea3655c4bc182dce5689fa1ce8f",
            "value": 7950
          }
        },
        "7a11b03f4d654d7c9922630bc383568a": {
          "model_module": "@jupyter-widgets/controls",
          "model_name": "HTMLModel",
          "model_module_version": "1.5.0",
          "state": {
            "_dom_classes": [],
            "_model_module": "@jupyter-widgets/controls",
            "_model_module_version": "1.5.0",
            "_model_name": "HTMLModel",
            "_view_count": null,
            "_view_module": "@jupyter-widgets/controls",
            "_view_module_version": "1.5.0",
            "_view_name": "HTMLView",
            "description": "",
            "description_tooltip": null,
            "layout": "IPY_MODEL_797af5e3910a4ca287e961c89ed74b82",
            "placeholder": "​",
            "style": "IPY_MODEL_8c91a207beec45079a408aff8bd2da13",
            "value": " 7.95k/7.95k [00:00&lt;00:00, 503kB/s]"
          }
        },
        "d88c2ebd2f5a49ea8616cd743c1e735f": {
          "model_module": "@jupyter-widgets/base",
          "model_name": "LayoutModel",
          "model_module_version": "1.2.0",
          "state": {
            "_model_module": "@jupyter-widgets/base",
            "_model_module_version": "1.2.0",
            "_model_name": "LayoutModel",
            "_view_count": null,
            "_view_module": "@jupyter-widgets/base",
            "_view_module_version": "1.2.0",
            "_view_name": "LayoutView",
            "align_content": null,
            "align_items": null,
            "align_self": null,
            "border": null,
            "bottom": null,
            "display": null,
            "flex": null,
            "flex_flow": null,
            "grid_area": null,
            "grid_auto_columns": null,
            "grid_auto_flow": null,
            "grid_auto_rows": null,
            "grid_column": null,
            "grid_gap": null,
            "grid_row": null,
            "grid_template_areas": null,
            "grid_template_columns": null,
            "grid_template_rows": null,
            "height": null,
            "justify_content": null,
            "justify_items": null,
            "left": null,
            "margin": null,
            "max_height": null,
            "max_width": null,
            "min_height": null,
            "min_width": null,
            "object_fit": null,
            "object_position": null,
            "order": null,
            "overflow": null,
            "overflow_x": null,
            "overflow_y": null,
            "padding": null,
            "right": null,
            "top": null,
            "visibility": null,
            "width": null
          }
        },
        "169d1fba22c0431b843fe2fb075179f0": {
          "model_module": "@jupyter-widgets/base",
          "model_name": "LayoutModel",
          "model_module_version": "1.2.0",
          "state": {
            "_model_module": "@jupyter-widgets/base",
            "_model_module_version": "1.2.0",
            "_model_name": "LayoutModel",
            "_view_count": null,
            "_view_module": "@jupyter-widgets/base",
            "_view_module_version": "1.2.0",
            "_view_name": "LayoutView",
            "align_content": null,
            "align_items": null,
            "align_self": null,
            "border": null,
            "bottom": null,
            "display": null,
            "flex": null,
            "flex_flow": null,
            "grid_area": null,
            "grid_auto_columns": null,
            "grid_auto_flow": null,
            "grid_auto_rows": null,
            "grid_column": null,
            "grid_gap": null,
            "grid_row": null,
            "grid_template_areas": null,
            "grid_template_columns": null,
            "grid_template_rows": null,
            "height": null,
            "justify_content": null,
            "justify_items": null,
            "left": null,
            "margin": null,
            "max_height": null,
            "max_width": null,
            "min_height": null,
            "min_width": null,
            "object_fit": null,
            "object_position": null,
            "order": null,
            "overflow": null,
            "overflow_x": null,
            "overflow_y": null,
            "padding": null,
            "right": null,
            "top": null,
            "visibility": null,
            "width": null
          }
        },
        "08ea73f4df3947e3988445a70069c5ba": {
          "model_module": "@jupyter-widgets/controls",
          "model_name": "DescriptionStyleModel",
          "model_module_version": "1.5.0",
          "state": {
            "_model_module": "@jupyter-widgets/controls",
            "_model_module_version": "1.5.0",
            "_model_name": "DescriptionStyleModel",
            "_view_count": null,
            "_view_module": "@jupyter-widgets/base",
            "_view_module_version": "1.2.0",
            "_view_name": "StyleView",
            "description_width": ""
          }
        },
        "ea34e5f195ca44dfafb005e500b6a80e": {
          "model_module": "@jupyter-widgets/base",
          "model_name": "LayoutModel",
          "model_module_version": "1.2.0",
          "state": {
            "_model_module": "@jupyter-widgets/base",
            "_model_module_version": "1.2.0",
            "_model_name": "LayoutModel",
            "_view_count": null,
            "_view_module": "@jupyter-widgets/base",
            "_view_module_version": "1.2.0",
            "_view_name": "LayoutView",
            "align_content": null,
            "align_items": null,
            "align_self": null,
            "border": null,
            "bottom": null,
            "display": null,
            "flex": null,
            "flex_flow": null,
            "grid_area": null,
            "grid_auto_columns": null,
            "grid_auto_flow": null,
            "grid_auto_rows": null,
            "grid_column": null,
            "grid_gap": null,
            "grid_row": null,
            "grid_template_areas": null,
            "grid_template_columns": null,
            "grid_template_rows": null,
            "height": null,
            "justify_content": null,
            "justify_items": null,
            "left": null,
            "margin": null,
            "max_height": null,
            "max_width": null,
            "min_height": null,
            "min_width": null,
            "object_fit": null,
            "object_position": null,
            "order": null,
            "overflow": null,
            "overflow_x": null,
            "overflow_y": null,
            "padding": null,
            "right": null,
            "top": null,
            "visibility": null,
            "width": null
          }
        },
        "c87adea3655c4bc182dce5689fa1ce8f": {
          "model_module": "@jupyter-widgets/controls",
          "model_name": "ProgressStyleModel",
          "model_module_version": "1.5.0",
          "state": {
            "_model_module": "@jupyter-widgets/controls",
            "_model_module_version": "1.5.0",
            "_model_name": "ProgressStyleModel",
            "_view_count": null,
            "_view_module": "@jupyter-widgets/base",
            "_view_module_version": "1.2.0",
            "_view_name": "StyleView",
            "bar_color": null,
            "description_width": ""
          }
        },
        "797af5e3910a4ca287e961c89ed74b82": {
          "model_module": "@jupyter-widgets/base",
          "model_name": "LayoutModel",
          "model_module_version": "1.2.0",
          "state": {
            "_model_module": "@jupyter-widgets/base",
            "_model_module_version": "1.2.0",
            "_model_name": "LayoutModel",
            "_view_count": null,
            "_view_module": "@jupyter-widgets/base",
            "_view_module_version": "1.2.0",
            "_view_name": "LayoutView",
            "align_content": null,
            "align_items": null,
            "align_self": null,
            "border": null,
            "bottom": null,
            "display": null,
            "flex": null,
            "flex_flow": null,
            "grid_area": null,
            "grid_auto_columns": null,
            "grid_auto_flow": null,
            "grid_auto_rows": null,
            "grid_column": null,
            "grid_gap": null,
            "grid_row": null,
            "grid_template_areas": null,
            "grid_template_columns": null,
            "grid_template_rows": null,
            "height": null,
            "justify_content": null,
            "justify_items": null,
            "left": null,
            "margin": null,
            "max_height": null,
            "max_width": null,
            "min_height": null,
            "min_width": null,
            "object_fit": null,
            "object_position": null,
            "order": null,
            "overflow": null,
            "overflow_x": null,
            "overflow_y": null,
            "padding": null,
            "right": null,
            "top": null,
            "visibility": null,
            "width": null
          }
        },
        "8c91a207beec45079a408aff8bd2da13": {
          "model_module": "@jupyter-widgets/controls",
          "model_name": "DescriptionStyleModel",
          "model_module_version": "1.5.0",
          "state": {
            "_model_module": "@jupyter-widgets/controls",
            "_model_module_version": "1.5.0",
            "_model_name": "DescriptionStyleModel",
            "_view_count": null,
            "_view_module": "@jupyter-widgets/base",
            "_view_module_version": "1.2.0",
            "_view_name": "StyleView",
            "description_width": ""
          }
        },
        "bba764c1053545abafbdb7626fc43f17": {
          "model_module": "@jupyter-widgets/controls",
          "model_name": "HBoxModel",
          "model_module_version": "1.5.0",
          "state": {
            "_dom_classes": [],
            "_model_module": "@jupyter-widgets/controls",
            "_model_module_version": "1.5.0",
            "_model_name": "HBoxModel",
            "_view_count": null,
            "_view_module": "@jupyter-widgets/controls",
            "_view_module_version": "1.5.0",
            "_view_name": "HBoxView",
            "box_style": "",
            "children": [
              "IPY_MODEL_23c16242039d4199a8b52038c9c95993",
              "IPY_MODEL_0b804a1e7c1f44c1b46c8c6f429c22ef",
              "IPY_MODEL_8ecbb1d23d4b481dbd85ba9b8f19d274"
            ],
            "layout": "IPY_MODEL_bfcfa9d31ab943429946fcb5d5ad8e4b"
          }
        },
        "23c16242039d4199a8b52038c9c95993": {
          "model_module": "@jupyter-widgets/controls",
          "model_name": "HTMLModel",
          "model_module_version": "1.5.0",
          "state": {
            "_dom_classes": [],
            "_model_module": "@jupyter-widgets/controls",
            "_model_module_version": "1.5.0",
            "_model_name": "HTMLModel",
            "_view_count": null,
            "_view_module": "@jupyter-widgets/controls",
            "_view_module_version": "1.5.0",
            "_view_name": "HTMLView",
            "description": "",
            "description_tooltip": null,
            "layout": "IPY_MODEL_6dfd8e7cb9354a5eae077e7efb4e6afe",
            "placeholder": "​",
            "style": "IPY_MODEL_bfc5c2aa24a74ce3bcc98e38f792fb9f",
            "value": "config.json: 100%"
          }
        },
        "0b804a1e7c1f44c1b46c8c6f429c22ef": {
          "model_module": "@jupyter-widgets/controls",
          "model_name": "FloatProgressModel",
          "model_module_version": "1.5.0",
          "state": {
            "_dom_classes": [],
            "_model_module": "@jupyter-widgets/controls",
            "_model_module_version": "1.5.0",
            "_model_name": "FloatProgressModel",
            "_view_count": null,
            "_view_module": "@jupyter-widgets/controls",
            "_view_module_version": "1.5.0",
            "_view_name": "ProgressView",
            "bar_style": "success",
            "description": "",
            "description_tooltip": null,
            "layout": "IPY_MODEL_22ef9f38ce724089a002fb8e80cc3411",
            "max": 482,
            "min": 0,
            "orientation": "horizontal",
            "style": "IPY_MODEL_800e60dc635b45df95a227c95fe0ece2",
            "value": 482
          }
        },
        "8ecbb1d23d4b481dbd85ba9b8f19d274": {
          "model_module": "@jupyter-widgets/controls",
          "model_name": "HTMLModel",
          "model_module_version": "1.5.0",
          "state": {
            "_dom_classes": [],
            "_model_module": "@jupyter-widgets/controls",
            "_model_module_version": "1.5.0",
            "_model_name": "HTMLModel",
            "_view_count": null,
            "_view_module": "@jupyter-widgets/controls",
            "_view_module_version": "1.5.0",
            "_view_name": "HTMLView",
            "description": "",
            "description_tooltip": null,
            "layout": "IPY_MODEL_319e52c430dd4625b371f5c2c615503c",
            "placeholder": "​",
            "style": "IPY_MODEL_a4742e3c306e4095b7158449d78ae7b9",
            "value": " 482/482 [00:00&lt;00:00, 9.92kB/s]"
          }
        },
        "bfcfa9d31ab943429946fcb5d5ad8e4b": {
          "model_module": "@jupyter-widgets/base",
          "model_name": "LayoutModel",
          "model_module_version": "1.2.0",
          "state": {
            "_model_module": "@jupyter-widgets/base",
            "_model_module_version": "1.2.0",
            "_model_name": "LayoutModel",
            "_view_count": null,
            "_view_module": "@jupyter-widgets/base",
            "_view_module_version": "1.2.0",
            "_view_name": "LayoutView",
            "align_content": null,
            "align_items": null,
            "align_self": null,
            "border": null,
            "bottom": null,
            "display": null,
            "flex": null,
            "flex_flow": null,
            "grid_area": null,
            "grid_auto_columns": null,
            "grid_auto_flow": null,
            "grid_auto_rows": null,
            "grid_column": null,
            "grid_gap": null,
            "grid_row": null,
            "grid_template_areas": null,
            "grid_template_columns": null,
            "grid_template_rows": null,
            "height": null,
            "justify_content": null,
            "justify_items": null,
            "left": null,
            "margin": null,
            "max_height": null,
            "max_width": null,
            "min_height": null,
            "min_width": null,
            "object_fit": null,
            "object_position": null,
            "order": null,
            "overflow": null,
            "overflow_x": null,
            "overflow_y": null,
            "padding": null,
            "right": null,
            "top": null,
            "visibility": null,
            "width": null
          }
        },
        "6dfd8e7cb9354a5eae077e7efb4e6afe": {
          "model_module": "@jupyter-widgets/base",
          "model_name": "LayoutModel",
          "model_module_version": "1.2.0",
          "state": {
            "_model_module": "@jupyter-widgets/base",
            "_model_module_version": "1.2.0",
            "_model_name": "LayoutModel",
            "_view_count": null,
            "_view_module": "@jupyter-widgets/base",
            "_view_module_version": "1.2.0",
            "_view_name": "LayoutView",
            "align_content": null,
            "align_items": null,
            "align_self": null,
            "border": null,
            "bottom": null,
            "display": null,
            "flex": null,
            "flex_flow": null,
            "grid_area": null,
            "grid_auto_columns": null,
            "grid_auto_flow": null,
            "grid_auto_rows": null,
            "grid_column": null,
            "grid_gap": null,
            "grid_row": null,
            "grid_template_areas": null,
            "grid_template_columns": null,
            "grid_template_rows": null,
            "height": null,
            "justify_content": null,
            "justify_items": null,
            "left": null,
            "margin": null,
            "max_height": null,
            "max_width": null,
            "min_height": null,
            "min_width": null,
            "object_fit": null,
            "object_position": null,
            "order": null,
            "overflow": null,
            "overflow_x": null,
            "overflow_y": null,
            "padding": null,
            "right": null,
            "top": null,
            "visibility": null,
            "width": null
          }
        },
        "bfc5c2aa24a74ce3bcc98e38f792fb9f": {
          "model_module": "@jupyter-widgets/controls",
          "model_name": "DescriptionStyleModel",
          "model_module_version": "1.5.0",
          "state": {
            "_model_module": "@jupyter-widgets/controls",
            "_model_module_version": "1.5.0",
            "_model_name": "DescriptionStyleModel",
            "_view_count": null,
            "_view_module": "@jupyter-widgets/base",
            "_view_module_version": "1.2.0",
            "_view_name": "StyleView",
            "description_width": ""
          }
        },
        "22ef9f38ce724089a002fb8e80cc3411": {
          "model_module": "@jupyter-widgets/base",
          "model_name": "LayoutModel",
          "model_module_version": "1.2.0",
          "state": {
            "_model_module": "@jupyter-widgets/base",
            "_model_module_version": "1.2.0",
            "_model_name": "LayoutModel",
            "_view_count": null,
            "_view_module": "@jupyter-widgets/base",
            "_view_module_version": "1.2.0",
            "_view_name": "LayoutView",
            "align_content": null,
            "align_items": null,
            "align_self": null,
            "border": null,
            "bottom": null,
            "display": null,
            "flex": null,
            "flex_flow": null,
            "grid_area": null,
            "grid_auto_columns": null,
            "grid_auto_flow": null,
            "grid_auto_rows": null,
            "grid_column": null,
            "grid_gap": null,
            "grid_row": null,
            "grid_template_areas": null,
            "grid_template_columns": null,
            "grid_template_rows": null,
            "height": null,
            "justify_content": null,
            "justify_items": null,
            "left": null,
            "margin": null,
            "max_height": null,
            "max_width": null,
            "min_height": null,
            "min_width": null,
            "object_fit": null,
            "object_position": null,
            "order": null,
            "overflow": null,
            "overflow_x": null,
            "overflow_y": null,
            "padding": null,
            "right": null,
            "top": null,
            "visibility": null,
            "width": null
          }
        },
        "800e60dc635b45df95a227c95fe0ece2": {
          "model_module": "@jupyter-widgets/controls",
          "model_name": "ProgressStyleModel",
          "model_module_version": "1.5.0",
          "state": {
            "_model_module": "@jupyter-widgets/controls",
            "_model_module_version": "1.5.0",
            "_model_name": "ProgressStyleModel",
            "_view_count": null,
            "_view_module": "@jupyter-widgets/base",
            "_view_module_version": "1.2.0",
            "_view_name": "StyleView",
            "bar_color": null,
            "description_width": ""
          }
        },
        "319e52c430dd4625b371f5c2c615503c": {
          "model_module": "@jupyter-widgets/base",
          "model_name": "LayoutModel",
          "model_module_version": "1.2.0",
          "state": {
            "_model_module": "@jupyter-widgets/base",
            "_model_module_version": "1.2.0",
            "_model_name": "LayoutModel",
            "_view_count": null,
            "_view_module": "@jupyter-widgets/base",
            "_view_module_version": "1.2.0",
            "_view_name": "LayoutView",
            "align_content": null,
            "align_items": null,
            "align_self": null,
            "border": null,
            "bottom": null,
            "display": null,
            "flex": null,
            "flex_flow": null,
            "grid_area": null,
            "grid_auto_columns": null,
            "grid_auto_flow": null,
            "grid_auto_rows": null,
            "grid_column": null,
            "grid_gap": null,
            "grid_row": null,
            "grid_template_areas": null,
            "grid_template_columns": null,
            "grid_template_rows": null,
            "height": null,
            "justify_content": null,
            "justify_items": null,
            "left": null,
            "margin": null,
            "max_height": null,
            "max_width": null,
            "min_height": null,
            "min_width": null,
            "object_fit": null,
            "object_position": null,
            "order": null,
            "overflow": null,
            "overflow_x": null,
            "overflow_y": null,
            "padding": null,
            "right": null,
            "top": null,
            "visibility": null,
            "width": null
          }
        },
        "a4742e3c306e4095b7158449d78ae7b9": {
          "model_module": "@jupyter-widgets/controls",
          "model_name": "DescriptionStyleModel",
          "model_module_version": "1.5.0",
          "state": {
            "_model_module": "@jupyter-widgets/controls",
            "_model_module_version": "1.5.0",
            "_model_name": "DescriptionStyleModel",
            "_view_count": null,
            "_view_module": "@jupyter-widgets/base",
            "_view_module_version": "1.2.0",
            "_view_name": "StyleView",
            "description_width": ""
          }
        },
        "021450d5d13e490fafe5eda39a502587": {
          "model_module": "@jupyter-widgets/controls",
          "model_name": "HBoxModel",
          "model_module_version": "1.5.0",
          "state": {
            "_dom_classes": [],
            "_model_module": "@jupyter-widgets/controls",
            "_model_module_version": "1.5.0",
            "_model_name": "HBoxModel",
            "_view_count": null,
            "_view_module": "@jupyter-widgets/controls",
            "_view_module_version": "1.5.0",
            "_view_name": "HBoxView",
            "box_style": "",
            "children": [
              "IPY_MODEL_f5f1a55ff31746358caea2ce36070d43",
              "IPY_MODEL_51abfe547ad64f5a9570b2b97bbc7b97",
              "IPY_MODEL_1c0e4616bebf4cb59ee5829e69b7d2cf"
            ],
            "layout": "IPY_MODEL_bdfbb8a7b05b4ca3aea35b0aeac6b410"
          }
        },
        "f5f1a55ff31746358caea2ce36070d43": {
          "model_module": "@jupyter-widgets/controls",
          "model_name": "HTMLModel",
          "model_module_version": "1.5.0",
          "state": {
            "_dom_classes": [],
            "_model_module": "@jupyter-widgets/controls",
            "_model_module_version": "1.5.0",
            "_model_name": "HTMLModel",
            "_view_count": null,
            "_view_module": "@jupyter-widgets/controls",
            "_view_module_version": "1.5.0",
            "_view_name": "HTMLView",
            "description": "",
            "description_tooltip": null,
            "layout": "IPY_MODEL_c122f19c72f04e3aab4f0b009ff1446d",
            "placeholder": "​",
            "style": "IPY_MODEL_4fac2ad036bd4cdebcba4faf9821b55c",
            "value": "vocab.json: 100%"
          }
        },
        "51abfe547ad64f5a9570b2b97bbc7b97": {
          "model_module": "@jupyter-widgets/controls",
          "model_name": "FloatProgressModel",
          "model_module_version": "1.5.0",
          "state": {
            "_dom_classes": [],
            "_model_module": "@jupyter-widgets/controls",
            "_model_module_version": "1.5.0",
            "_model_name": "FloatProgressModel",
            "_view_count": null,
            "_view_module": "@jupyter-widgets/controls",
            "_view_module_version": "1.5.0",
            "_view_name": "ProgressView",
            "bar_style": "success",
            "description": "",
            "description_tooltip": null,
            "layout": "IPY_MODEL_6f9e822d662649218762c569e7a4e7b5",
            "max": 898823,
            "min": 0,
            "orientation": "horizontal",
            "style": "IPY_MODEL_7c5d55b250dd4860ada475ec13d83982",
            "value": 898823
          }
        },
        "1c0e4616bebf4cb59ee5829e69b7d2cf": {
          "model_module": "@jupyter-widgets/controls",
          "model_name": "HTMLModel",
          "model_module_version": "1.5.0",
          "state": {
            "_dom_classes": [],
            "_model_module": "@jupyter-widgets/controls",
            "_model_module_version": "1.5.0",
            "_model_name": "HTMLModel",
            "_view_count": null,
            "_view_module": "@jupyter-widgets/controls",
            "_view_module_version": "1.5.0",
            "_view_name": "HTMLView",
            "description": "",
            "description_tooltip": null,
            "layout": "IPY_MODEL_9d41e77632704aa1848c4db4785414b4",
            "placeholder": "​",
            "style": "IPY_MODEL_c90113b545784680b36cc7c995395732",
            "value": " 899k/899k [00:00&lt;00:00, 8.54MB/s]"
          }
        },
        "bdfbb8a7b05b4ca3aea35b0aeac6b410": {
          "model_module": "@jupyter-widgets/base",
          "model_name": "LayoutModel",
          "model_module_version": "1.2.0",
          "state": {
            "_model_module": "@jupyter-widgets/base",
            "_model_module_version": "1.2.0",
            "_model_name": "LayoutModel",
            "_view_count": null,
            "_view_module": "@jupyter-widgets/base",
            "_view_module_version": "1.2.0",
            "_view_name": "LayoutView",
            "align_content": null,
            "align_items": null,
            "align_self": null,
            "border": null,
            "bottom": null,
            "display": null,
            "flex": null,
            "flex_flow": null,
            "grid_area": null,
            "grid_auto_columns": null,
            "grid_auto_flow": null,
            "grid_auto_rows": null,
            "grid_column": null,
            "grid_gap": null,
            "grid_row": null,
            "grid_template_areas": null,
            "grid_template_columns": null,
            "grid_template_rows": null,
            "height": null,
            "justify_content": null,
            "justify_items": null,
            "left": null,
            "margin": null,
            "max_height": null,
            "max_width": null,
            "min_height": null,
            "min_width": null,
            "object_fit": null,
            "object_position": null,
            "order": null,
            "overflow": null,
            "overflow_x": null,
            "overflow_y": null,
            "padding": null,
            "right": null,
            "top": null,
            "visibility": null,
            "width": null
          }
        },
        "c122f19c72f04e3aab4f0b009ff1446d": {
          "model_module": "@jupyter-widgets/base",
          "model_name": "LayoutModel",
          "model_module_version": "1.2.0",
          "state": {
            "_model_module": "@jupyter-widgets/base",
            "_model_module_version": "1.2.0",
            "_model_name": "LayoutModel",
            "_view_count": null,
            "_view_module": "@jupyter-widgets/base",
            "_view_module_version": "1.2.0",
            "_view_name": "LayoutView",
            "align_content": null,
            "align_items": null,
            "align_self": null,
            "border": null,
            "bottom": null,
            "display": null,
            "flex": null,
            "flex_flow": null,
            "grid_area": null,
            "grid_auto_columns": null,
            "grid_auto_flow": null,
            "grid_auto_rows": null,
            "grid_column": null,
            "grid_gap": null,
            "grid_row": null,
            "grid_template_areas": null,
            "grid_template_columns": null,
            "grid_template_rows": null,
            "height": null,
            "justify_content": null,
            "justify_items": null,
            "left": null,
            "margin": null,
            "max_height": null,
            "max_width": null,
            "min_height": null,
            "min_width": null,
            "object_fit": null,
            "object_position": null,
            "order": null,
            "overflow": null,
            "overflow_x": null,
            "overflow_y": null,
            "padding": null,
            "right": null,
            "top": null,
            "visibility": null,
            "width": null
          }
        },
        "4fac2ad036bd4cdebcba4faf9821b55c": {
          "model_module": "@jupyter-widgets/controls",
          "model_name": "DescriptionStyleModel",
          "model_module_version": "1.5.0",
          "state": {
            "_model_module": "@jupyter-widgets/controls",
            "_model_module_version": "1.5.0",
            "_model_name": "DescriptionStyleModel",
            "_view_count": null,
            "_view_module": "@jupyter-widgets/base",
            "_view_module_version": "1.2.0",
            "_view_name": "StyleView",
            "description_width": ""
          }
        },
        "6f9e822d662649218762c569e7a4e7b5": {
          "model_module": "@jupyter-widgets/base",
          "model_name": "LayoutModel",
          "model_module_version": "1.2.0",
          "state": {
            "_model_module": "@jupyter-widgets/base",
            "_model_module_version": "1.2.0",
            "_model_name": "LayoutModel",
            "_view_count": null,
            "_view_module": "@jupyter-widgets/base",
            "_view_module_version": "1.2.0",
            "_view_name": "LayoutView",
            "align_content": null,
            "align_items": null,
            "align_self": null,
            "border": null,
            "bottom": null,
            "display": null,
            "flex": null,
            "flex_flow": null,
            "grid_area": null,
            "grid_auto_columns": null,
            "grid_auto_flow": null,
            "grid_auto_rows": null,
            "grid_column": null,
            "grid_gap": null,
            "grid_row": null,
            "grid_template_areas": null,
            "grid_template_columns": null,
            "grid_template_rows": null,
            "height": null,
            "justify_content": null,
            "justify_items": null,
            "left": null,
            "margin": null,
            "max_height": null,
            "max_width": null,
            "min_height": null,
            "min_width": null,
            "object_fit": null,
            "object_position": null,
            "order": null,
            "overflow": null,
            "overflow_x": null,
            "overflow_y": null,
            "padding": null,
            "right": null,
            "top": null,
            "visibility": null,
            "width": null
          }
        },
        "7c5d55b250dd4860ada475ec13d83982": {
          "model_module": "@jupyter-widgets/controls",
          "model_name": "ProgressStyleModel",
          "model_module_version": "1.5.0",
          "state": {
            "_model_module": "@jupyter-widgets/controls",
            "_model_module_version": "1.5.0",
            "_model_name": "ProgressStyleModel",
            "_view_count": null,
            "_view_module": "@jupyter-widgets/base",
            "_view_module_version": "1.2.0",
            "_view_name": "StyleView",
            "bar_color": null,
            "description_width": ""
          }
        },
        "9d41e77632704aa1848c4db4785414b4": {
          "model_module": "@jupyter-widgets/base",
          "model_name": "LayoutModel",
          "model_module_version": "1.2.0",
          "state": {
            "_model_module": "@jupyter-widgets/base",
            "_model_module_version": "1.2.0",
            "_model_name": "LayoutModel",
            "_view_count": null,
            "_view_module": "@jupyter-widgets/base",
            "_view_module_version": "1.2.0",
            "_view_name": "LayoutView",
            "align_content": null,
            "align_items": null,
            "align_self": null,
            "border": null,
            "bottom": null,
            "display": null,
            "flex": null,
            "flex_flow": null,
            "grid_area": null,
            "grid_auto_columns": null,
            "grid_auto_flow": null,
            "grid_auto_rows": null,
            "grid_column": null,
            "grid_gap": null,
            "grid_row": null,
            "grid_template_areas": null,
            "grid_template_columns": null,
            "grid_template_rows": null,
            "height": null,
            "justify_content": null,
            "justify_items": null,
            "left": null,
            "margin": null,
            "max_height": null,
            "max_width": null,
            "min_height": null,
            "min_width": null,
            "object_fit": null,
            "object_position": null,
            "order": null,
            "overflow": null,
            "overflow_x": null,
            "overflow_y": null,
            "padding": null,
            "right": null,
            "top": null,
            "visibility": null,
            "width": null
          }
        },
        "c90113b545784680b36cc7c995395732": {
          "model_module": "@jupyter-widgets/controls",
          "model_name": "DescriptionStyleModel",
          "model_module_version": "1.5.0",
          "state": {
            "_model_module": "@jupyter-widgets/controls",
            "_model_module_version": "1.5.0",
            "_model_name": "DescriptionStyleModel",
            "_view_count": null,
            "_view_module": "@jupyter-widgets/base",
            "_view_module_version": "1.2.0",
            "_view_name": "StyleView",
            "description_width": ""
          }
        },
        "601e4d7bd0e543d9b8aa6a47730c982f": {
          "model_module": "@jupyter-widgets/controls",
          "model_name": "HBoxModel",
          "model_module_version": "1.5.0",
          "state": {
            "_dom_classes": [],
            "_model_module": "@jupyter-widgets/controls",
            "_model_module_version": "1.5.0",
            "_model_name": "HBoxModel",
            "_view_count": null,
            "_view_module": "@jupyter-widgets/controls",
            "_view_module_version": "1.5.0",
            "_view_name": "HBoxView",
            "box_style": "",
            "children": [
              "IPY_MODEL_f26f1b3f6c524eaba9ea25c738e78bf2",
              "IPY_MODEL_8355d3dcc4994a7fa544626b82a676da",
              "IPY_MODEL_a5cd7bb75a8947879bb73c6585389c24"
            ],
            "layout": "IPY_MODEL_c918f87cfb924d4fba08361f2bbfa329"
          }
        },
        "f26f1b3f6c524eaba9ea25c738e78bf2": {
          "model_module": "@jupyter-widgets/controls",
          "model_name": "HTMLModel",
          "model_module_version": "1.5.0",
          "state": {
            "_dom_classes": [],
            "_model_module": "@jupyter-widgets/controls",
            "_model_module_version": "1.5.0",
            "_model_name": "HTMLModel",
            "_view_count": null,
            "_view_module": "@jupyter-widgets/controls",
            "_view_module_version": "1.5.0",
            "_view_name": "HTMLView",
            "description": "",
            "description_tooltip": null,
            "layout": "IPY_MODEL_8725d3ccae4148ec902ea52b4b03d3df",
            "placeholder": "​",
            "style": "IPY_MODEL_30cf528323d24745aa209f8bf91cfa87",
            "value": "merges.txt: 100%"
          }
        },
        "8355d3dcc4994a7fa544626b82a676da": {
          "model_module": "@jupyter-widgets/controls",
          "model_name": "FloatProgressModel",
          "model_module_version": "1.5.0",
          "state": {
            "_dom_classes": [],
            "_model_module": "@jupyter-widgets/controls",
            "_model_module_version": "1.5.0",
            "_model_name": "FloatProgressModel",
            "_view_count": null,
            "_view_module": "@jupyter-widgets/controls",
            "_view_module_version": "1.5.0",
            "_view_name": "ProgressView",
            "bar_style": "success",
            "description": "",
            "description_tooltip": null,
            "layout": "IPY_MODEL_730fe205933c423cb19abdd2cf9b7a7a",
            "max": 456318,
            "min": 0,
            "orientation": "horizontal",
            "style": "IPY_MODEL_a5924be6489849e691c025696ef9f719",
            "value": 456318
          }
        },
        "a5cd7bb75a8947879bb73c6585389c24": {
          "model_module": "@jupyter-widgets/controls",
          "model_name": "HTMLModel",
          "model_module_version": "1.5.0",
          "state": {
            "_dom_classes": [],
            "_model_module": "@jupyter-widgets/controls",
            "_model_module_version": "1.5.0",
            "_model_name": "HTMLModel",
            "_view_count": null,
            "_view_module": "@jupyter-widgets/controls",
            "_view_module_version": "1.5.0",
            "_view_name": "HTMLView",
            "description": "",
            "description_tooltip": null,
            "layout": "IPY_MODEL_2887db6ee18f43fd86f8e78f9c9e2ffc",
            "placeholder": "​",
            "style": "IPY_MODEL_0bc0294beb1548a1bdac27e46a278371",
            "value": " 456k/456k [00:00&lt;00:00, 6.58MB/s]"
          }
        },
        "c918f87cfb924d4fba08361f2bbfa329": {
          "model_module": "@jupyter-widgets/base",
          "model_name": "LayoutModel",
          "model_module_version": "1.2.0",
          "state": {
            "_model_module": "@jupyter-widgets/base",
            "_model_module_version": "1.2.0",
            "_model_name": "LayoutModel",
            "_view_count": null,
            "_view_module": "@jupyter-widgets/base",
            "_view_module_version": "1.2.0",
            "_view_name": "LayoutView",
            "align_content": null,
            "align_items": null,
            "align_self": null,
            "border": null,
            "bottom": null,
            "display": null,
            "flex": null,
            "flex_flow": null,
            "grid_area": null,
            "grid_auto_columns": null,
            "grid_auto_flow": null,
            "grid_auto_rows": null,
            "grid_column": null,
            "grid_gap": null,
            "grid_row": null,
            "grid_template_areas": null,
            "grid_template_columns": null,
            "grid_template_rows": null,
            "height": null,
            "justify_content": null,
            "justify_items": null,
            "left": null,
            "margin": null,
            "max_height": null,
            "max_width": null,
            "min_height": null,
            "min_width": null,
            "object_fit": null,
            "object_position": null,
            "order": null,
            "overflow": null,
            "overflow_x": null,
            "overflow_y": null,
            "padding": null,
            "right": null,
            "top": null,
            "visibility": null,
            "width": null
          }
        },
        "8725d3ccae4148ec902ea52b4b03d3df": {
          "model_module": "@jupyter-widgets/base",
          "model_name": "LayoutModel",
          "model_module_version": "1.2.0",
          "state": {
            "_model_module": "@jupyter-widgets/base",
            "_model_module_version": "1.2.0",
            "_model_name": "LayoutModel",
            "_view_count": null,
            "_view_module": "@jupyter-widgets/base",
            "_view_module_version": "1.2.0",
            "_view_name": "LayoutView",
            "align_content": null,
            "align_items": null,
            "align_self": null,
            "border": null,
            "bottom": null,
            "display": null,
            "flex": null,
            "flex_flow": null,
            "grid_area": null,
            "grid_auto_columns": null,
            "grid_auto_flow": null,
            "grid_auto_rows": null,
            "grid_column": null,
            "grid_gap": null,
            "grid_row": null,
            "grid_template_areas": null,
            "grid_template_columns": null,
            "grid_template_rows": null,
            "height": null,
            "justify_content": null,
            "justify_items": null,
            "left": null,
            "margin": null,
            "max_height": null,
            "max_width": null,
            "min_height": null,
            "min_width": null,
            "object_fit": null,
            "object_position": null,
            "order": null,
            "overflow": null,
            "overflow_x": null,
            "overflow_y": null,
            "padding": null,
            "right": null,
            "top": null,
            "visibility": null,
            "width": null
          }
        },
        "30cf528323d24745aa209f8bf91cfa87": {
          "model_module": "@jupyter-widgets/controls",
          "model_name": "DescriptionStyleModel",
          "model_module_version": "1.5.0",
          "state": {
            "_model_module": "@jupyter-widgets/controls",
            "_model_module_version": "1.5.0",
            "_model_name": "DescriptionStyleModel",
            "_view_count": null,
            "_view_module": "@jupyter-widgets/base",
            "_view_module_version": "1.2.0",
            "_view_name": "StyleView",
            "description_width": ""
          }
        },
        "730fe205933c423cb19abdd2cf9b7a7a": {
          "model_module": "@jupyter-widgets/base",
          "model_name": "LayoutModel",
          "model_module_version": "1.2.0",
          "state": {
            "_model_module": "@jupyter-widgets/base",
            "_model_module_version": "1.2.0",
            "_model_name": "LayoutModel",
            "_view_count": null,
            "_view_module": "@jupyter-widgets/base",
            "_view_module_version": "1.2.0",
            "_view_name": "LayoutView",
            "align_content": null,
            "align_items": null,
            "align_self": null,
            "border": null,
            "bottom": null,
            "display": null,
            "flex": null,
            "flex_flow": null,
            "grid_area": null,
            "grid_auto_columns": null,
            "grid_auto_flow": null,
            "grid_auto_rows": null,
            "grid_column": null,
            "grid_gap": null,
            "grid_row": null,
            "grid_template_areas": null,
            "grid_template_columns": null,
            "grid_template_rows": null,
            "height": null,
            "justify_content": null,
            "justify_items": null,
            "left": null,
            "margin": null,
            "max_height": null,
            "max_width": null,
            "min_height": null,
            "min_width": null,
            "object_fit": null,
            "object_position": null,
            "order": null,
            "overflow": null,
            "overflow_x": null,
            "overflow_y": null,
            "padding": null,
            "right": null,
            "top": null,
            "visibility": null,
            "width": null
          }
        },
        "a5924be6489849e691c025696ef9f719": {
          "model_module": "@jupyter-widgets/controls",
          "model_name": "ProgressStyleModel",
          "model_module_version": "1.5.0",
          "state": {
            "_model_module": "@jupyter-widgets/controls",
            "_model_module_version": "1.5.0",
            "_model_name": "ProgressStyleModel",
            "_view_count": null,
            "_view_module": "@jupyter-widgets/base",
            "_view_module_version": "1.2.0",
            "_view_name": "StyleView",
            "bar_color": null,
            "description_width": ""
          }
        },
        "2887db6ee18f43fd86f8e78f9c9e2ffc": {
          "model_module": "@jupyter-widgets/base",
          "model_name": "LayoutModel",
          "model_module_version": "1.2.0",
          "state": {
            "_model_module": "@jupyter-widgets/base",
            "_model_module_version": "1.2.0",
            "_model_name": "LayoutModel",
            "_view_count": null,
            "_view_module": "@jupyter-widgets/base",
            "_view_module_version": "1.2.0",
            "_view_name": "LayoutView",
            "align_content": null,
            "align_items": null,
            "align_self": null,
            "border": null,
            "bottom": null,
            "display": null,
            "flex": null,
            "flex_flow": null,
            "grid_area": null,
            "grid_auto_columns": null,
            "grid_auto_flow": null,
            "grid_auto_rows": null,
            "grid_column": null,
            "grid_gap": null,
            "grid_row": null,
            "grid_template_areas": null,
            "grid_template_columns": null,
            "grid_template_rows": null,
            "height": null,
            "justify_content": null,
            "justify_items": null,
            "left": null,
            "margin": null,
            "max_height": null,
            "max_width": null,
            "min_height": null,
            "min_width": null,
            "object_fit": null,
            "object_position": null,
            "order": null,
            "overflow": null,
            "overflow_x": null,
            "overflow_y": null,
            "padding": null,
            "right": null,
            "top": null,
            "visibility": null,
            "width": null
          }
        },
        "0bc0294beb1548a1bdac27e46a278371": {
          "model_module": "@jupyter-widgets/controls",
          "model_name": "DescriptionStyleModel",
          "model_module_version": "1.5.0",
          "state": {
            "_model_module": "@jupyter-widgets/controls",
            "_model_module_version": "1.5.0",
            "_model_name": "DescriptionStyleModel",
            "_view_count": null,
            "_view_module": "@jupyter-widgets/base",
            "_view_module_version": "1.2.0",
            "_view_name": "StyleView",
            "description_width": ""
          }
        },
        "d08d422b16a3488f9689a16d9c9ef755": {
          "model_module": "@jupyter-widgets/controls",
          "model_name": "HBoxModel",
          "model_module_version": "1.5.0",
          "state": {
            "_dom_classes": [],
            "_model_module": "@jupyter-widgets/controls",
            "_model_module_version": "1.5.0",
            "_model_name": "HBoxModel",
            "_view_count": null,
            "_view_module": "@jupyter-widgets/controls",
            "_view_module_version": "1.5.0",
            "_view_name": "HBoxView",
            "box_style": "",
            "children": [
              "IPY_MODEL_97011f9d10954c9fa9c705eb47943f0d",
              "IPY_MODEL_c40b828324c54d0cb9c854a1555ff36e",
              "IPY_MODEL_58141da8b6cc49b29d53abeaddbb1d52"
            ],
            "layout": "IPY_MODEL_a6ef4572586a47478105aed0b0d2543f"
          }
        },
        "97011f9d10954c9fa9c705eb47943f0d": {
          "model_module": "@jupyter-widgets/controls",
          "model_name": "HTMLModel",
          "model_module_version": "1.5.0",
          "state": {
            "_dom_classes": [],
            "_model_module": "@jupyter-widgets/controls",
            "_model_module_version": "1.5.0",
            "_model_name": "HTMLModel",
            "_view_count": null,
            "_view_module": "@jupyter-widgets/controls",
            "_view_module_version": "1.5.0",
            "_view_name": "HTMLView",
            "description": "",
            "description_tooltip": null,
            "layout": "IPY_MODEL_d1917a5422e64e148050d67cc9b03684",
            "placeholder": "​",
            "style": "IPY_MODEL_4b39404de8cc4ba39d3d2015d65dacdd",
            "value": "tokenizer.json: 100%"
          }
        },
        "c40b828324c54d0cb9c854a1555ff36e": {
          "model_module": "@jupyter-widgets/controls",
          "model_name": "FloatProgressModel",
          "model_module_version": "1.5.0",
          "state": {
            "_dom_classes": [],
            "_model_module": "@jupyter-widgets/controls",
            "_model_module_version": "1.5.0",
            "_model_name": "FloatProgressModel",
            "_view_count": null,
            "_view_module": "@jupyter-widgets/controls",
            "_view_module_version": "1.5.0",
            "_view_name": "ProgressView",
            "bar_style": "success",
            "description": "",
            "description_tooltip": null,
            "layout": "IPY_MODEL_17adc6fa869d4d248c84160515248031",
            "max": 1355863,
            "min": 0,
            "orientation": "horizontal",
            "style": "IPY_MODEL_4aab1522096d410f929788412f3101ff",
            "value": 1355863
          }
        },
        "58141da8b6cc49b29d53abeaddbb1d52": {
          "model_module": "@jupyter-widgets/controls",
          "model_name": "HTMLModel",
          "model_module_version": "1.5.0",
          "state": {
            "_dom_classes": [],
            "_model_module": "@jupyter-widgets/controls",
            "_model_module_version": "1.5.0",
            "_model_name": "HTMLModel",
            "_view_count": null,
            "_view_module": "@jupyter-widgets/controls",
            "_view_module_version": "1.5.0",
            "_view_name": "HTMLView",
            "description": "",
            "description_tooltip": null,
            "layout": "IPY_MODEL_c6bd3cf2747a4607bcfa2672bed37f3f",
            "placeholder": "​",
            "style": "IPY_MODEL_496116498f694be6b515573dd684bb62",
            "value": " 1.36M/1.36M [00:00&lt;00:00, 20.6MB/s]"
          }
        },
        "a6ef4572586a47478105aed0b0d2543f": {
          "model_module": "@jupyter-widgets/base",
          "model_name": "LayoutModel",
          "model_module_version": "1.2.0",
          "state": {
            "_model_module": "@jupyter-widgets/base",
            "_model_module_version": "1.2.0",
            "_model_name": "LayoutModel",
            "_view_count": null,
            "_view_module": "@jupyter-widgets/base",
            "_view_module_version": "1.2.0",
            "_view_name": "LayoutView",
            "align_content": null,
            "align_items": null,
            "align_self": null,
            "border": null,
            "bottom": null,
            "display": null,
            "flex": null,
            "flex_flow": null,
            "grid_area": null,
            "grid_auto_columns": null,
            "grid_auto_flow": null,
            "grid_auto_rows": null,
            "grid_column": null,
            "grid_gap": null,
            "grid_row": null,
            "grid_template_areas": null,
            "grid_template_columns": null,
            "grid_template_rows": null,
            "height": null,
            "justify_content": null,
            "justify_items": null,
            "left": null,
            "margin": null,
            "max_height": null,
            "max_width": null,
            "min_height": null,
            "min_width": null,
            "object_fit": null,
            "object_position": null,
            "order": null,
            "overflow": null,
            "overflow_x": null,
            "overflow_y": null,
            "padding": null,
            "right": null,
            "top": null,
            "visibility": null,
            "width": null
          }
        },
        "d1917a5422e64e148050d67cc9b03684": {
          "model_module": "@jupyter-widgets/base",
          "model_name": "LayoutModel",
          "model_module_version": "1.2.0",
          "state": {
            "_model_module": "@jupyter-widgets/base",
            "_model_module_version": "1.2.0",
            "_model_name": "LayoutModel",
            "_view_count": null,
            "_view_module": "@jupyter-widgets/base",
            "_view_module_version": "1.2.0",
            "_view_name": "LayoutView",
            "align_content": null,
            "align_items": null,
            "align_self": null,
            "border": null,
            "bottom": null,
            "display": null,
            "flex": null,
            "flex_flow": null,
            "grid_area": null,
            "grid_auto_columns": null,
            "grid_auto_flow": null,
            "grid_auto_rows": null,
            "grid_column": null,
            "grid_gap": null,
            "grid_row": null,
            "grid_template_areas": null,
            "grid_template_columns": null,
            "grid_template_rows": null,
            "height": null,
            "justify_content": null,
            "justify_items": null,
            "left": null,
            "margin": null,
            "max_height": null,
            "max_width": null,
            "min_height": null,
            "min_width": null,
            "object_fit": null,
            "object_position": null,
            "order": null,
            "overflow": null,
            "overflow_x": null,
            "overflow_y": null,
            "padding": null,
            "right": null,
            "top": null,
            "visibility": null,
            "width": null
          }
        },
        "4b39404de8cc4ba39d3d2015d65dacdd": {
          "model_module": "@jupyter-widgets/controls",
          "model_name": "DescriptionStyleModel",
          "model_module_version": "1.5.0",
          "state": {
            "_model_module": "@jupyter-widgets/controls",
            "_model_module_version": "1.5.0",
            "_model_name": "DescriptionStyleModel",
            "_view_count": null,
            "_view_module": "@jupyter-widgets/base",
            "_view_module_version": "1.2.0",
            "_view_name": "StyleView",
            "description_width": ""
          }
        },
        "17adc6fa869d4d248c84160515248031": {
          "model_module": "@jupyter-widgets/base",
          "model_name": "LayoutModel",
          "model_module_version": "1.2.0",
          "state": {
            "_model_module": "@jupyter-widgets/base",
            "_model_module_version": "1.2.0",
            "_model_name": "LayoutModel",
            "_view_count": null,
            "_view_module": "@jupyter-widgets/base",
            "_view_module_version": "1.2.0",
            "_view_name": "LayoutView",
            "align_content": null,
            "align_items": null,
            "align_self": null,
            "border": null,
            "bottom": null,
            "display": null,
            "flex": null,
            "flex_flow": null,
            "grid_area": null,
            "grid_auto_columns": null,
            "grid_auto_flow": null,
            "grid_auto_rows": null,
            "grid_column": null,
            "grid_gap": null,
            "grid_row": null,
            "grid_template_areas": null,
            "grid_template_columns": null,
            "grid_template_rows": null,
            "height": null,
            "justify_content": null,
            "justify_items": null,
            "left": null,
            "margin": null,
            "max_height": null,
            "max_width": null,
            "min_height": null,
            "min_width": null,
            "object_fit": null,
            "object_position": null,
            "order": null,
            "overflow": null,
            "overflow_x": null,
            "overflow_y": null,
            "padding": null,
            "right": null,
            "top": null,
            "visibility": null,
            "width": null
          }
        },
        "4aab1522096d410f929788412f3101ff": {
          "model_module": "@jupyter-widgets/controls",
          "model_name": "ProgressStyleModel",
          "model_module_version": "1.5.0",
          "state": {
            "_model_module": "@jupyter-widgets/controls",
            "_model_module_version": "1.5.0",
            "_model_name": "ProgressStyleModel",
            "_view_count": null,
            "_view_module": "@jupyter-widgets/base",
            "_view_module_version": "1.2.0",
            "_view_name": "StyleView",
            "bar_color": null,
            "description_width": ""
          }
        },
        "c6bd3cf2747a4607bcfa2672bed37f3f": {
          "model_module": "@jupyter-widgets/base",
          "model_name": "LayoutModel",
          "model_module_version": "1.2.0",
          "state": {
            "_model_module": "@jupyter-widgets/base",
            "_model_module_version": "1.2.0",
            "_model_name": "LayoutModel",
            "_view_count": null,
            "_view_module": "@jupyter-widgets/base",
            "_view_module_version": "1.2.0",
            "_view_name": "LayoutView",
            "align_content": null,
            "align_items": null,
            "align_self": null,
            "border": null,
            "bottom": null,
            "display": null,
            "flex": null,
            "flex_flow": null,
            "grid_area": null,
            "grid_auto_columns": null,
            "grid_auto_flow": null,
            "grid_auto_rows": null,
            "grid_column": null,
            "grid_gap": null,
            "grid_row": null,
            "grid_template_areas": null,
            "grid_template_columns": null,
            "grid_template_rows": null,
            "height": null,
            "justify_content": null,
            "justify_items": null,
            "left": null,
            "margin": null,
            "max_height": null,
            "max_width": null,
            "min_height": null,
            "min_width": null,
            "object_fit": null,
            "object_position": null,
            "order": null,
            "overflow": null,
            "overflow_x": null,
            "overflow_y": null,
            "padding": null,
            "right": null,
            "top": null,
            "visibility": null,
            "width": null
          }
        },
        "496116498f694be6b515573dd684bb62": {
          "model_module": "@jupyter-widgets/controls",
          "model_name": "DescriptionStyleModel",
          "model_module_version": "1.5.0",
          "state": {
            "_model_module": "@jupyter-widgets/controls",
            "_model_module_version": "1.5.0",
            "_model_name": "DescriptionStyleModel",
            "_view_count": null,
            "_view_module": "@jupyter-widgets/base",
            "_view_module_version": "1.2.0",
            "_view_name": "StyleView",
            "description_width": ""
          }
        },
        "16411a8ce9e44b289d87dafaf44bcb1a": {
          "model_module": "@jupyter-widgets/controls",
          "model_name": "HBoxModel",
          "model_module_version": "1.5.0",
          "state": {
            "_dom_classes": [],
            "_model_module": "@jupyter-widgets/controls",
            "_model_module_version": "1.5.0",
            "_model_name": "HBoxModel",
            "_view_count": null,
            "_view_module": "@jupyter-widgets/controls",
            "_view_module_version": "1.5.0",
            "_view_name": "HBoxView",
            "box_style": "",
            "children": [
              "IPY_MODEL_526b2292f58740f9bd06aa879f5ca8f4",
              "IPY_MODEL_41c189f24c5c446fae67d1fef48fe0f9",
              "IPY_MODEL_a1b72b51d77c4b85a9a8caec857e2eec"
            ],
            "layout": "IPY_MODEL_018c7b36cbae4dd69ad314ab486c8a2b"
          }
        },
        "526b2292f58740f9bd06aa879f5ca8f4": {
          "model_module": "@jupyter-widgets/controls",
          "model_name": "HTMLModel",
          "model_module_version": "1.5.0",
          "state": {
            "_dom_classes": [],
            "_model_module": "@jupyter-widgets/controls",
            "_model_module_version": "1.5.0",
            "_model_name": "HTMLModel",
            "_view_count": null,
            "_view_module": "@jupyter-widgets/controls",
            "_view_module_version": "1.5.0",
            "_view_name": "HTMLView",
            "description": "",
            "description_tooltip": null,
            "layout": "IPY_MODEL_fa722e1ca60c41249692084bca2d2dd4",
            "placeholder": "​",
            "style": "IPY_MODEL_67dd2e93534c4291a13d001024081d7b",
            "value": "model.safetensors: 100%"
          }
        },
        "41c189f24c5c446fae67d1fef48fe0f9": {
          "model_module": "@jupyter-widgets/controls",
          "model_name": "FloatProgressModel",
          "model_module_version": "1.5.0",
          "state": {
            "_dom_classes": [],
            "_model_module": "@jupyter-widgets/controls",
            "_model_module_version": "1.5.0",
            "_model_name": "FloatProgressModel",
            "_view_count": null,
            "_view_module": "@jupyter-widgets/controls",
            "_view_module_version": "1.5.0",
            "_view_name": "ProgressView",
            "bar_style": "success",
            "description": "",
            "description_tooltip": null,
            "layout": "IPY_MODEL_0addd9ae16c145628be2539c7588a1b6",
            "max": 1421700479,
            "min": 0,
            "orientation": "horizontal",
            "style": "IPY_MODEL_8a2e394db3a04ce18890c9eea76787cc",
            "value": 1421700479
          }
        },
        "a1b72b51d77c4b85a9a8caec857e2eec": {
          "model_module": "@jupyter-widgets/controls",
          "model_name": "HTMLModel",
          "model_module_version": "1.5.0",
          "state": {
            "_dom_classes": [],
            "_model_module": "@jupyter-widgets/controls",
            "_model_module_version": "1.5.0",
            "_model_name": "HTMLModel",
            "_view_count": null,
            "_view_module": "@jupyter-widgets/controls",
            "_view_module_version": "1.5.0",
            "_view_name": "HTMLView",
            "description": "",
            "description_tooltip": null,
            "layout": "IPY_MODEL_10e67471392d42f886ce5d08ac9d5c7d",
            "placeholder": "​",
            "style": "IPY_MODEL_d508b6c46db141f2982a07a0899a3af0",
            "value": " 1.42G/1.42G [00:18&lt;00:00, 171MB/s]"
          }
        },
        "018c7b36cbae4dd69ad314ab486c8a2b": {
          "model_module": "@jupyter-widgets/base",
          "model_name": "LayoutModel",
          "model_module_version": "1.2.0",
          "state": {
            "_model_module": "@jupyter-widgets/base",
            "_model_module_version": "1.2.0",
            "_model_name": "LayoutModel",
            "_view_count": null,
            "_view_module": "@jupyter-widgets/base",
            "_view_module_version": "1.2.0",
            "_view_name": "LayoutView",
            "align_content": null,
            "align_items": null,
            "align_self": null,
            "border": null,
            "bottom": null,
            "display": null,
            "flex": null,
            "flex_flow": null,
            "grid_area": null,
            "grid_auto_columns": null,
            "grid_auto_flow": null,
            "grid_auto_rows": null,
            "grid_column": null,
            "grid_gap": null,
            "grid_row": null,
            "grid_template_areas": null,
            "grid_template_columns": null,
            "grid_template_rows": null,
            "height": null,
            "justify_content": null,
            "justify_items": null,
            "left": null,
            "margin": null,
            "max_height": null,
            "max_width": null,
            "min_height": null,
            "min_width": null,
            "object_fit": null,
            "object_position": null,
            "order": null,
            "overflow": null,
            "overflow_x": null,
            "overflow_y": null,
            "padding": null,
            "right": null,
            "top": null,
            "visibility": null,
            "width": null
          }
        },
        "fa722e1ca60c41249692084bca2d2dd4": {
          "model_module": "@jupyter-widgets/base",
          "model_name": "LayoutModel",
          "model_module_version": "1.2.0",
          "state": {
            "_model_module": "@jupyter-widgets/base",
            "_model_module_version": "1.2.0",
            "_model_name": "LayoutModel",
            "_view_count": null,
            "_view_module": "@jupyter-widgets/base",
            "_view_module_version": "1.2.0",
            "_view_name": "LayoutView",
            "align_content": null,
            "align_items": null,
            "align_self": null,
            "border": null,
            "bottom": null,
            "display": null,
            "flex": null,
            "flex_flow": null,
            "grid_area": null,
            "grid_auto_columns": null,
            "grid_auto_flow": null,
            "grid_auto_rows": null,
            "grid_column": null,
            "grid_gap": null,
            "grid_row": null,
            "grid_template_areas": null,
            "grid_template_columns": null,
            "grid_template_rows": null,
            "height": null,
            "justify_content": null,
            "justify_items": null,
            "left": null,
            "margin": null,
            "max_height": null,
            "max_width": null,
            "min_height": null,
            "min_width": null,
            "object_fit": null,
            "object_position": null,
            "order": null,
            "overflow": null,
            "overflow_x": null,
            "overflow_y": null,
            "padding": null,
            "right": null,
            "top": null,
            "visibility": null,
            "width": null
          }
        },
        "67dd2e93534c4291a13d001024081d7b": {
          "model_module": "@jupyter-widgets/controls",
          "model_name": "DescriptionStyleModel",
          "model_module_version": "1.5.0",
          "state": {
            "_model_module": "@jupyter-widgets/controls",
            "_model_module_version": "1.5.0",
            "_model_name": "DescriptionStyleModel",
            "_view_count": null,
            "_view_module": "@jupyter-widgets/base",
            "_view_module_version": "1.2.0",
            "_view_name": "StyleView",
            "description_width": ""
          }
        },
        "0addd9ae16c145628be2539c7588a1b6": {
          "model_module": "@jupyter-widgets/base",
          "model_name": "LayoutModel",
          "model_module_version": "1.2.0",
          "state": {
            "_model_module": "@jupyter-widgets/base",
            "_model_module_version": "1.2.0",
            "_model_name": "LayoutModel",
            "_view_count": null,
            "_view_module": "@jupyter-widgets/base",
            "_view_module_version": "1.2.0",
            "_view_name": "LayoutView",
            "align_content": null,
            "align_items": null,
            "align_self": null,
            "border": null,
            "bottom": null,
            "display": null,
            "flex": null,
            "flex_flow": null,
            "grid_area": null,
            "grid_auto_columns": null,
            "grid_auto_flow": null,
            "grid_auto_rows": null,
            "grid_column": null,
            "grid_gap": null,
            "grid_row": null,
            "grid_template_areas": null,
            "grid_template_columns": null,
            "grid_template_rows": null,
            "height": null,
            "justify_content": null,
            "justify_items": null,
            "left": null,
            "margin": null,
            "max_height": null,
            "max_width": null,
            "min_height": null,
            "min_width": null,
            "object_fit": null,
            "object_position": null,
            "order": null,
            "overflow": null,
            "overflow_x": null,
            "overflow_y": null,
            "padding": null,
            "right": null,
            "top": null,
            "visibility": null,
            "width": null
          }
        },
        "8a2e394db3a04ce18890c9eea76787cc": {
          "model_module": "@jupyter-widgets/controls",
          "model_name": "ProgressStyleModel",
          "model_module_version": "1.5.0",
          "state": {
            "_model_module": "@jupyter-widgets/controls",
            "_model_module_version": "1.5.0",
            "_model_name": "ProgressStyleModel",
            "_view_count": null,
            "_view_module": "@jupyter-widgets/base",
            "_view_module_version": "1.2.0",
            "_view_name": "StyleView",
            "bar_color": null,
            "description_width": ""
          }
        },
        "10e67471392d42f886ce5d08ac9d5c7d": {
          "model_module": "@jupyter-widgets/base",
          "model_name": "LayoutModel",
          "model_module_version": "1.2.0",
          "state": {
            "_model_module": "@jupyter-widgets/base",
            "_model_module_version": "1.2.0",
            "_model_name": "LayoutModel",
            "_view_count": null,
            "_view_module": "@jupyter-widgets/base",
            "_view_module_version": "1.2.0",
            "_view_name": "LayoutView",
            "align_content": null,
            "align_items": null,
            "align_self": null,
            "border": null,
            "bottom": null,
            "display": null,
            "flex": null,
            "flex_flow": null,
            "grid_area": null,
            "grid_auto_columns": null,
            "grid_auto_flow": null,
            "grid_auto_rows": null,
            "grid_column": null,
            "grid_gap": null,
            "grid_row": null,
            "grid_template_areas": null,
            "grid_template_columns": null,
            "grid_template_rows": null,
            "height": null,
            "justify_content": null,
            "justify_items": null,
            "left": null,
            "margin": null,
            "max_height": null,
            "max_width": null,
            "min_height": null,
            "min_width": null,
            "object_fit": null,
            "object_position": null,
            "order": null,
            "overflow": null,
            "overflow_x": null,
            "overflow_y": null,
            "padding": null,
            "right": null,
            "top": null,
            "visibility": null,
            "width": null
          }
        },
        "d508b6c46db141f2982a07a0899a3af0": {
          "model_module": "@jupyter-widgets/controls",
          "model_name": "DescriptionStyleModel",
          "model_module_version": "1.5.0",
          "state": {
            "_model_module": "@jupyter-widgets/controls",
            "_model_module_version": "1.5.0",
            "_model_name": "DescriptionStyleModel",
            "_view_count": null,
            "_view_module": "@jupyter-widgets/base",
            "_view_module_version": "1.2.0",
            "_view_name": "StyleView",
            "description_width": ""
          }
        }
      }
    }
  },
  "nbformat": 4,
  "nbformat_minor": 0
}